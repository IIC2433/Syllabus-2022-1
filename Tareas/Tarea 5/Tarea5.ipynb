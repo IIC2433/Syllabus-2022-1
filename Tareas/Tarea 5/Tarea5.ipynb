{
  "cells": [
    {
      "cell_type": "markdown",
      "source": [
        "Pontificia Universidad Católica de Chile <br>\n",
        "Departamento de Ciencia de la Computación <br>\n",
        "IIC2433 - Minería de Datos\n",
        "<br>\n",
        "\n",
        "<center>\n",
        "    <h2> Tarea 5 </h2>\n",
        "    <h1> #Constitución </h1>\n",
        "    <p>\n",
        "        Profesor Vicente Domínguez<br>\n",
        "        Primer semestre 2022<br>    \n",
        "        Fecha de entrega: Viernes 1 de Julio a las 22:00hrs.\n",
        "    </p>\n",
        "    <br>\n",
        "</center>\n",
        "\n",
        "<br>\n",
        "\n",
        "---"
      ],
      "metadata": {
        "id": "C6ZTAVOm7KuF"
      }
    },
    {
      "cell_type": "markdown",
      "source": [
        "## Disclaimer\n",
        "La intención de esta tarea no es polarizar ni propagar una agenda política. Su objetivo es analizar de manera imparcial los datos que se tienen. Creemos que este es un tema de interés y contingente para todo estudiante, y que es de mucha utilidad mostrarles cómo son aplicables las herramientas enseñadas en el curso en un caso real. Recuerda siempre mantener la cordialidad y objetividad en el momento del análisis.\n",
        "\n",
        "## Disclaimer 2\n",
        "Al leer esto estás de acuerdo con no compartir de forma pública (RR.SS., por ejemplo) la información obtenida de esta tarea ya que es el objeto de estudio (y futura publicación) de un ayudante :)"
      ],
      "metadata": {
        "id": "oq3P9qnCBYAX"
      }
    },
    {
      "cell_type": "markdown",
      "source": [
        "## Un domingo incómodo\n",
        "En tu último almuerzo familiar, nadie pudo disfrutar mucho la comida ya que antes de esta se generó un momento de tensión cuando tu tio se puso a comentar sobre el borrador de constitución que se está haciendo ahora. Su principal comentario fue \"ES IGUAL A LA CONSTITUCIÓN DE VENEZUELA...!!!\" Como buen minero de datos, tú le preguntaste de donde obtuvo esa información. \"DE TWITTER...!!!\" - dijo él. \n",
        "\n",
        "Cuando intentaste demostrarle con hechos y lógica que esto no era cierto te percataste de algo: tú tampoco sabías si esto era cierto o no. Por esto, decidiste utilizar todas tus herramientas de Natural Language Processing recientemente adquiridas para analizar este borrador y compararlo con constituciones previamente existentes. "
      ],
      "metadata": {
        "id": "Od5FuZFjBWVv"
      }
    },
    {
      "cell_type": "markdown",
      "source": [
        "## 0. Setup"
      ],
      "metadata": {
        "id": "r6NevH4ShdEw"
      }
    },
    {
      "cell_type": "code",
      "execution_count": null,
      "metadata": {
        "colab": {
          "base_uri": "https://localhost:8080/"
        },
        "id": "k0wjX2snfXSS",
        "outputId": "d63b2448-76a4-476d-a638-18a3901b7f20"
      },
      "outputs": [
        {
          "output_type": "stream",
          "name": "stdout",
          "text": [
            "Ahora debes reiniciar el entorno de ejecución y ejecutar a partir de la siguiente celda\n"
          ]
        }
      ],
      "source": [
        "from IPython.display import clear_output\n",
        "\n",
        "!pip3 uninstall spacy\n",
        "!pip3 install spacy\n",
        "\n",
        "!spacy download es_core_news_lg\n",
        "clear_output()\n",
        "print('Ahora debes reiniciar el entorno de ejecución y ejecutar a partir de la siguiente celda')"
      ]
    },
    {
      "cell_type": "markdown",
      "source": [
        "## 1. Importar librerías y descargar dataset\n",
        "En esta tarea trabajaremos con la librería `spacy` y el pipeline `es_core_news_lg` el cual pesa más de 500 MB y contiene un vocabulario en español de más de medio millón de palabras. Cada una de estas palabras es representable a partir de un vector de 300 dimensiones que nos ayudarán en la tarea. Revisa la [documentación](https://spacy.io/api) documentación de la librería para saber más."
      ],
      "metadata": {
        "id": "mLY2uFN0hjkm"
      }
    },
    {
      "cell_type": "code",
      "execution_count": null,
      "metadata": {
        "id": "HCxHfQ6VOVoE"
      },
      "outputs": [],
      "source": [
        "import pandas as pd\n",
        "import numpy as np\n",
        "from collections import defaultdict\n",
        "import spacy\n",
        "\n",
        "nlp = spacy.load(\"es_core_news_lg\")"
      ]
    },
    {
      "cell_type": "markdown",
      "source": [
        "El siguiente dataframe contiene los artículos de 22 constituciones diferentes de paises americanos y europeos."
      ],
      "metadata": {
        "id": "nvpxolVvBzLz"
      }
    },
    {
      "cell_type": "code",
      "source": [
        "url = 'https://drive.google.com/uc?id=1sl8XOW3gez-Gki5v64ddMRNDy-Pwd9qk'\n",
        "df = pd.read_csv(url, index_col=0)\n",
        "df"
      ],
      "metadata": {
        "id": "N4Ttt8hCisRW"
      },
      "execution_count": null,
      "outputs": []
    },
    {
      "cell_type": "markdown",
      "metadata": {
        "id": "bOBlRt56UgPy"
      },
      "source": [
        "## 2. Preprocesamiento (1.5 puntos)\n",
        "### 2.1 Separar por oraciones\n",
        "Para cada artículo, tienes que separar en oraciones según los delimitadores `.` y `;`. Se espera un dataframe con 3 columnas (country, article, sentence) con más de 35.000 filas."
      ]
    },
    {
      "cell_type": "code",
      "source": [
        ""
      ],
      "metadata": {
        "id": "KOTgcKlZqfR-"
      },
      "execution_count": null,
      "outputs": []
    },
    {
      "cell_type": "markdown",
      "source": [
        "### 2.2 Preprocesar oraciones\n",
        "La función `preprocess` toma una oración, la preprocesa y retorna la oración preprocesada (string). El preproceso incluye 6 subprocesos detallados en el código.\n",
        "\n",
        "Hint: Al crear un documento con `nlp(sentence)`, cada palabra de la `sentence` tiene atributos que pueden servir al momento de preprocesar."
      ],
      "metadata": {
        "id": "vYSimc_lgQVU"
      }
    },
    {
      "cell_type": "code",
      "execution_count": null,
      "metadata": {
        "id": "eFi8KBJY2_2f"
      },
      "outputs": [],
      "source": [
        "def remove_punctuation(text):\n",
        "  # Elimina toda palabra que sea considerada como una puntuación\n",
        "  pass\n",
        "\n",
        "def remove_stopwords(words):\n",
        "  # Elimina toda palabra que sea considerada como una stopword a excepción de Estado\n",
        "  pass\n",
        "\n",
        "def lemmatize(words):\n",
        "  # Lematiza cada palabra\n",
        "  pass\n",
        "\n",
        "\n",
        "def remove_non_alpha(words):\n",
        "  # Elimina palabras que no sean alfanuméricas\n",
        "  pass\n",
        "\n",
        "def lower(words):\n",
        "  # Lleva toda palabra a minúsculas\n",
        "  pass\n",
        "\n",
        "def min_len(words, length=3):\n",
        "  # Elimina palabras que tengan un largo menor a length\n",
        "  pass\n",
        "\n",
        "def preprocess(text):\n",
        "\n",
        "  doc = nlp(text)\n",
        "  tokens = remove_punctuation(doc)\n",
        "  tokens = remove_stopwords(tokens)\n",
        "  tokens = lemmatize(tokens)\n",
        "  tokens = remove_non_alpha(tokens)\n",
        "  tokens = lower(tokens)\n",
        "  tokens = min_len(tokens, length=3)\n",
        "\n",
        "  return ' '.join(tokens).strip()\n",
        "\n",
        "# Este es un ejemplo para que veas si tu preprocesamiento funcionó.\n",
        "new_text = preprocess(\" i Constitución de Chile: Las personas nacen libres e iguales en dignidad y derechos, La familia es el núcleo fundamental de la sociedad.\")\n",
        "new_text"
      ]
    },
    {
      "cell_type": "markdown",
      "source": [
        "Una correcta función de preprocesamiento retornaría lo siguiente: \n",
        "\n",
        "`constitución chile persona nacer libre igual dignidad derecho familia núcleo fundamental sociedad`"
      ],
      "metadata": {
        "id": "LNxC_-Irimn2"
      }
    },
    {
      "cell_type": "markdown",
      "source": [
        "Preprocesa toda oración y guarda este vector en una columna del dataframe principal."
      ],
      "metadata": {
        "id": "fzVGG_xnkMAX"
      }
    },
    {
      "cell_type": "code",
      "execution_count": null,
      "metadata": {
        "id": "G2qLRiX7iQwP"
      },
      "outputs": [],
      "source": [
        "# Tu código aquí"
      ]
    },
    {
      "cell_type": "markdown",
      "source": [
        "### 2.3 Eliminación de datos nulos o inservibles\n",
        "Elimina datos vacíos y elimina filas con textos de largo pequeño que no son oraciones. Justifica el mínimo de largo seleccionado. "
      ],
      "metadata": {
        "id": "gmNEWR0gka2N"
      }
    },
    {
      "cell_type": "code",
      "source": [
        "# Eliminar datos nulos"
      ],
      "metadata": {
        "id": "JVy7rd1ajxir"
      },
      "execution_count": null,
      "outputs": []
    },
    {
      "cell_type": "code",
      "source": [
        "# Eliminar oraciones de menor largo que tu parámetro seleccionado"
      ],
      "metadata": {
        "id": "0O1joO3L6hDq"
      },
      "execution_count": null,
      "outputs": []
    },
    {
      "cell_type": "code",
      "source": [
        "# HINT: te recomendamos fuertemente resetear los índices ahora que ya eliminaste varias filas."
      ],
      "metadata": {
        "id": "ypfFCV5KEspj"
      },
      "execution_count": null,
      "outputs": []
    },
    {
      "cell_type": "markdown",
      "source": [
        "## 3. Vectorizar oraciones (0.5 puntos)\n",
        "Define una función que dada una oración, retorna un vector que la representa. En esta tarea, el vector de una oración será el promedio de los vectores de cada una de las palabras que fueron preprocesadas de la oración."
      ],
      "metadata": {
        "id": "l4Twv_UOh6Y2"
      }
    },
    {
      "cell_type": "code",
      "execution_count": null,
      "metadata": {
        "id": "0AAbqLO17ZUe"
      },
      "outputs": [],
      "source": [
        "def sentence_vector(text):\n",
        "  pass\n"
      ]
    },
    {
      "cell_type": "markdown",
      "source": [
        "Dada la función, crea un nuevo dataframe que contenga los vectores de cada una de las oraciones."
      ],
      "metadata": {
        "id": "C6KGXbFfm3-b"
      }
    },
    {
      "cell_type": "code",
      "source": [
        "# Tu código aquí"
      ],
      "metadata": {
        "id": "u8MUtUE0nEZt"
      },
      "execution_count": null,
      "outputs": []
    },
    {
      "cell_type": "markdown",
      "source": [
        "## 4. Matriz de similitud (1.5 puntos)\n",
        "### 4.1 Obtención matriz de confusión\n",
        "Obtén una matriz que por cada par distintos de oraciones contenga la distancia coseno entre los vectores que representan a cada una. Hint: el método `pairwise_distances`  de `sklearn` realiza esta operación eficientemente y no genera problemas de RAM."
      ],
      "metadata": {
        "id": "51DPKg6GnFXz"
      }
    },
    {
      "cell_type": "code",
      "source": [
        "from sklearn.metrics import pairwise_distances\n",
        "\n",
        "# Tu código aquí"
      ],
      "metadata": {
        "id": "JX04uGoSiefr"
      },
      "execution_count": null,
      "outputs": []
    },
    {
      "cell_type": "markdown",
      "source": [
        "### 4.2 Función `print_most_similar`\n",
        "A partir del nombre de un artículo, imprimir cada una de sus oraciones junto con la oración más parecida que detecta la `similarity_matrix` que sea de otra constitución. Además de la oración, debes imprimir el país de origen de la oración seleccionada.\n"
      ],
      "metadata": {
        "id": "NcvohvTOpCpI"
      }
    },
    {
      "cell_type": "code",
      "source": [
        "def print_most_similar(article, X, matrix):\n",
        "  pass"
      ],
      "metadata": {
        "id": "cYCd6Yp1k-1d"
      },
      "execution_count": null,
      "outputs": []
    },
    {
      "cell_type": "markdown",
      "source": [
        "### 4.3 Evaluar desempeño\n",
        "Para cada uno de los 3 artículos del borrador, ejecuta la función y **comenta** sobre los resultados. Se espera un breve análisis por cada uno de los artículos. Todas las oraciones de los artículos del borrador de la convención tienen como `country` a `CONV`.\n"
      ],
      "metadata": {
        "id": "ecXxlsYvnhkb"
      }
    },
    {
      "cell_type": "markdown",
      "source": [
        "#### 4.3.1 Sobre la definición del Estado en `428 Artículo 1`"
      ],
      "metadata": {
        "id": "M00W9h6KoDkq"
      }
    },
    {
      "cell_type": "code",
      "source": [
        "print_most_similar('428 Artículo 1', df, similarity_matrix)"
      ],
      "metadata": {
        "id": "qXy8uVxeoM0x"
      },
      "execution_count": null,
      "outputs": []
    },
    {
      "cell_type": "markdown",
      "source": [
        "(Comenta aquí)"
      ],
      "metadata": {
        "id": "FL2LPxHs_xOk"
      }
    },
    {
      "cell_type": "markdown",
      "source": [
        "#### 4.3.2 Sobre la plurinacionalidad en `130 Artículo 4°`"
      ],
      "metadata": {
        "id": "yC0JD1mkokLZ"
      }
    },
    {
      "cell_type": "code",
      "source": [
        "print_most_similar('130 Artículo 4°', df, similarity_matrix)"
      ],
      "metadata": {
        "id": "IeGEeOyRhsjg"
      },
      "execution_count": null,
      "outputs": []
    },
    {
      "cell_type": "markdown",
      "source": [
        "(Comenta aquí)"
      ],
      "metadata": {
        "id": "0bRLXL68_2VX"
      }
    },
    {
      "cell_type": "markdown",
      "source": [
        "#### 4.3.3 Sobre el agua en `385 Artículo 26`"
      ],
      "metadata": {
        "id": "Kncjf7y-o0dl"
      }
    },
    {
      "cell_type": "code",
      "source": [
        "print_most_similar('385 Artículo 26', df, similarity_matrix)"
      ],
      "metadata": {
        "id": "LQ7QlQ-omMDa"
      },
      "execution_count": null,
      "outputs": []
    },
    {
      "cell_type": "markdown",
      "source": [
        "(Comenta aquí)"
      ],
      "metadata": {
        "id": "V61XSdlY_6fi"
      }
    },
    {
      "cell_type": "markdown",
      "source": [
        "## 5. Algoritmo de similaridad entre Constituciones (2.5 puntos)\n",
        "### 5.1 Implementación `SimilarityCalculator` \n",
        "Dada una constitución, se evalúa la similaridad de los artículos con respecto a otras constituciones a partir de la selección de las k oraciones ajenas más parecidas a cada una de las oraciones que constituyen el artículo. A continuación, se presenta el flujo que se debe implementar.\n",
        "\n",
        "Ejemplo:\n",
        "Una constitución tiene 10 artículos y definimos k=3.\n",
        "- Para el artículo 1 (tiene dos oraciones)\n",
        "    - Para la oración 1\n",
        "        - Identificamos las k=3 oraciones más parecidad de otras constituciones. Ejemplo: `[CHL, BOL, CHL]`\n",
        "\n",
        "    - Para la oración 2\n",
        "      - Identificamos las k=3 oraciones más parecidad de otras constituciones. Ejemplo: `[SWE, CHL, BOL]`\n",
        "\n",
        "    - Juntamos los resultados de cada oración y quedan las frecuencias: `{CHL : 3, BOL : 2, SWE : 1}`.\n",
        "    - Como `CHL` es el país que más se repite, concluimos que Chile  es el país que representa al contenido del artículo.\n",
        "\n",
        "- Realizamos el mismo procedimiento para el resto de los 9 artículos.\n",
        "\n",
        "- Al contabilizar los países escogidos, podrían quedar las siguientes distribuciones: `{CHL : 80%, SPA : 10%, BOL : 10%}`. Es decir, de los 10 artículos, 8 son catalogados por mayoría como chilenos (80%) y 1 corresponde respectivamente a España y Bolivia (10%)\n",
        "- Se debe retornar un pandas dataframe que contenga estas últimas frecuencias en porcentaje.\n",
        "\n",
        "\n"
      ],
      "metadata": {
        "id": "Y4z1x-nAoDQM"
      }
    },
    {
      "cell_type": "code",
      "source": [
        "import collections\n",
        "\n",
        "class SimilarityCalculator:\n",
        "\n",
        "  def __init__(self, df, matrix):\n",
        "\n",
        "    self.df = df\n",
        "    self.matrix = matrix\n",
        "\n",
        "  def calculate(self, country, k=1):\n",
        "\n",
        "    # Separar X, y: y contiene las oraciones de country, X al resto\n",
        "    # Recorre cada artíclo del país\n",
        "        # Recorre cada oración de un artículo\n",
        "            # Selecciona las k oraciones de X se se parecen más a la oración\n",
        "            # Guarda los países de las k oraciones seleccionadas (un país de puede repetir)\n",
        "        # El país que más se repita al juntar todas las oraciones será el país del artículo\n",
        "    # Retorna el porcentaje de que un país en X sea asignado como el más similar a un cierto artículo de country\n",
        "    \n",
        "    pass\n",
        "\n",
        "# Se instancia la clase que implementaste\n",
        "sim = SimilarityCalculator(df, similarity_matrix)"
      ],
      "metadata": {
        "id": "7Zymu3V6odN9"
      },
      "execution_count": null,
      "outputs": []
    },
    {
      "cell_type": "markdown",
      "source": [
        "### 5.2 Resultados\n",
        "Con un `k=3` muestra la distribución de porcentajes usando a la constitución sueca (`SWE`)."
      ],
      "metadata": {
        "id": "H0nJN-f1v3di"
      }
    },
    {
      "cell_type": "code",
      "source": [
        ""
      ],
      "metadata": {
        "id": "6pD6skpnv0Py"
      },
      "execution_count": null,
      "outputs": []
    },
    {
      "cell_type": "markdown",
      "source": [
        "Realiza lo mismo pero para la constitución venezonala (`VEN`)."
      ],
      "metadata": {
        "id": "K4PfdnKrwVJJ"
      }
    },
    {
      "cell_type": "code",
      "source": [
        ""
      ],
      "metadata": {
        "id": "W9cu_CRQI49J"
      },
      "execution_count": null,
      "outputs": []
    },
    {
      "cell_type": "markdown",
      "source": [
        "Realiza el procedimiento para el borrador de la constitución `CONV`. Además corre otra instancia que no incluya a la constitución actual `CHL`. Lo anterior es debido a un posible bias que tienen ambas al incluir los strings `Chile, chilenos, chilenas` en sus oraciones."
      ],
      "metadata": {
        "id": "Go7jiAd7wpJg"
      }
    },
    {
      "cell_type": "code",
      "source": [
        ""
      ],
      "metadata": {
        "id": "mPtog1IAxOJs"
      },
      "execution_count": null,
      "outputs": []
    },
    {
      "cell_type": "code",
      "source": [
        "# Instancia sin CHL"
      ],
      "metadata": {
        "id": "it9EUKFDxkAx"
      },
      "execution_count": null,
      "outputs": []
    },
    {
      "cell_type": "markdown",
      "source": [
        "Ahora, haz el mismo análisis para `CHL`, uno considerando `CONV` y otro sin considerarlo"
      ],
      "metadata": {
        "id": "yHwY-vDjA8jw"
      }
    },
    {
      "cell_type": "code",
      "source": [
        ""
      ],
      "metadata": {
        "id": "THUkMyUD3DBC"
      },
      "execution_count": null,
      "outputs": []
    },
    {
      "cell_type": "code",
      "source": [
        "# Instancia sin CONV"
      ],
      "metadata": {
        "id": "McRwaJkXBLZR"
      },
      "execution_count": null,
      "outputs": []
    },
    {
      "cell_type": "markdown",
      "source": [
        "### 5.3 Tweets\n",
        "Con tu misión de análisis completada, decides intentar publicar información verdadera en twitter, para que tu tío pueda leer algo que no sea sólo propaganda política engañosa.\n",
        "\n",
        "A partir de los resultados obtenidos, redacta tres tweets de hasta 140 **caracteres** (no palabras) que agreguen valor a la discusión pública de cara al plebiscito de salida. No debes publicarlos en Twitter, sino que simplemente escribirlos acá. Independiente de tu posición política, esperamos un comentario respetuoso y basado en datos. Puedes expandir tus comentarios a otros países no evaluados en la sección anterior.\n"
      ],
      "metadata": {
        "id": "CmpvLYzmzJuP"
      }
    },
    {
      "cell_type": "markdown",
      "source": [
        "### 5.4 Posibles sesgos y mejoras\n",
        "Comenta también sobre posibles sesgos en el preprocesamiento de los datos, la vectorización de las oraciones y del algoritmo de similaridad que implementaste. Para cada uno de los tres casos, propón al menos una mejora."
      ],
      "metadata": {
        "id": "GBHcL64r2AMK"
      }
    },
    {
      "cell_type": "code",
      "source": [
        ""
      ],
      "metadata": {
        "id": "WzYbvVrRR2Vw"
      },
      "execution_count": null,
      "outputs": []
    },
    {
      "cell_type": "markdown",
      "source": [
        "## 6. Bonus (hasta un punto extra)\n",
        "Juega con tu creatividad y diseña una visualización interesante que analice datos obtenidos en la tarea. Se espera tanto creatividad como calidad gráfica de la visualización."
      ],
      "metadata": {
        "id": "Akzb8K9ZV8Qi"
      }
    },
    {
      "cell_type": "code",
      "source": [
        ""
      ],
      "metadata": {
        "id": "fm1fc9U_WWQl"
      },
      "execution_count": null,
      "outputs": []
    }
  ],
  "metadata": {
    "colab": {
      "name": "Tarea5.ipynb",
      "provenance": [],
      "collapsed_sections": []
    },
    "kernelspec": {
      "display_name": "Python 3",
      "name": "python3"
    },
    "language_info": {
      "name": "python"
    }
  },
  "nbformat": 4,
  "nbformat_minor": 0
}