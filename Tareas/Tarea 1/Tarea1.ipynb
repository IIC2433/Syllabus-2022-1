{
  "nbformat": 4,
  "nbformat_minor": 0,
  "metadata": {
    "colab": {
      "name": "Tarea1",
      "provenance": [],
      "collapsed_sections": []
    },
    "kernelspec": {
      "name": "python3",
      "display_name": "Python 3"
    },
    "language_info": {
      "name": "python"
    }
  },
  "cells": [
    {
      "cell_type": "markdown",
      "source": [
        "# IIC2433 - 2022-1"
      ],
      "metadata": {
        "id": "VK0aZCFHaCOT"
      }
    },
    {
      "cell_type": "markdown",
      "source": [
        "# Tarea 1 - It's free real estate"
      ],
      "metadata": {
        "id": "XzHzU8ug5TNq"
      }
    },
    {
      "cell_type": "markdown",
      "source": [
        "# Introducción"
      ],
      "metadata": {
        "id": "SugK90ojjLCl"
      }
    },
    {
      "cell_type": "markdown",
      "source": [
        "Vicencio Sabadez, mente de tiburón como siempre, decidió invertir en el mercado inmobiliario de EE.UU. Como Vicencio es un *vío*, decidió utilizar sus conocimientos de minería de datos para ayudarse a conocer el mercado en el que quiere ingresar.\n",
        "Pidiéndole ayuda a su amigo, Carlos Kaggle, consiguió un dataset con los detalles de diferentes casas, y sus precios respectivos. Con esto, quiere hacer una herramienta de predicción del precio de una casa ingresando otros valores pertinentes. Ahí es donde entras tú. Tendrás que trabajar los datos obtenidos por Vicencio, implementar **dos modelos de regresión, y analizarlos**.\n",
        "Se espera que las decisiones que tomes sean informadas y explicadas en el notebook para que Vicencio entienda lo que estás haciendo."
      ],
      "metadata": {
        "id": "Kh48bbP2jRE-"
      }
    },
    {
      "cell_type": "markdown",
      "source": [
        "# Formato de Entrega\n",
        "Deberás entregar SOLO el archivo .ipynb en el buzón respectivo en canvas. \n",
        "\n",
        "**IMPORTANTE**: \n",
        "- Se te dará puntaje tanto por código como por la manera en la que respondas las preguntas planteadas. Es decir, si tienes un código perfecto pero este no es explicado o no se responden preguntas asociadas a este, no se tendrá el puntaje perfecto.\n",
        "- El notebook debe tener todas las celdas de código ejecutadas. Cualquier notebook que no las tenga no podrá ser corregido.\n",
        "- El carácter de esta tarea es **INDIVIDUAL**. Cualquier instancia de copia resultará en un 1,1 como nota de curso."
      ],
      "metadata": {
        "id": "toYwgW4xFneR"
      }
    },
    {
      "cell_type": "markdown",
      "source": [
        "# LIBRERÍAS\n",
        "Librerías aceptadas:\n",
        "- Numpy\n",
        "- Pandas\n",
        "- Matplotlib\n",
        "- Seaborn\n",
        "\n",
        "Librerías prohibidas:\n",
        "- sklearn\n",
        "- *Cualquier otra librería que maneje y prediga datos* "
      ],
      "metadata": {
        "id": "q1KVpoyF6E6Q"
      }
    },
    {
      "cell_type": "markdown",
      "source": [
        "## Parte 1: Manejo de datos (1.5 ptos.)\n"
      ],
      "metadata": {
        "id": "6YHnR9xBau9U"
      }
    },
    {
      "cell_type": "markdown",
      "source": [
        "### 1.a Descripción de los datos (0.5 ptos.)"
      ],
      "metadata": {
        "id": "a7-xsxGK5wZH"
      }
    },
    {
      "cell_type": "markdown",
      "source": [
        "En esta sección, carga `real_estate.csv` y describe sus columnas. Estúdia el dataset. Recuerda tener claro que el objetivo de esto es predecir el precio de las casas."
      ],
      "metadata": {
        "id": "_CjWFFce564I"
      }
    },
    {
      "cell_type": "code",
      "source": [
        ""
      ],
      "metadata": {
        "id": "vgkx53wia9tk"
      },
      "execution_count": null,
      "outputs": []
    },
    {
      "cell_type": "markdown",
      "source": [
        "Haz un gráfico donde se vea la distribución de los precios de las casas. Además de esto, haz una representación gráfica de almenos 2 de las otras columnas.\n",
        "(Estas últimas pueden ser gráficos de barra, histogramas, etc.)."
      ],
      "metadata": {
        "id": "9YTl22cu6ymQ"
      }
    },
    {
      "cell_type": "code",
      "source": [
        ""
      ],
      "metadata": {
        "id": "2iCx8Frx64M-"
      },
      "execution_count": null,
      "outputs": []
    },
    {
      "cell_type": "markdown",
      "source": [
        "### 1.b Manejo de información sobrante y outliers (0.3 ptos.)"
      ],
      "metadata": {
        "id": "gtFYRefb64ho"
      }
    },
    {
      "cell_type": "markdown",
      "source": [
        "En esta sección elimina las columnas que crees no necesarias para los modelos que harás. Debes explicar la razón de eliminación de cada columna.\n",
        "HINT: Para una primera limpieza, ten en mente el tipo de las columnas presentes (categóricas o numéricas)."
      ],
      "metadata": {
        "id": "QcGQcPlF7_Vv"
      }
    },
    {
      "cell_type": "code",
      "source": [
        ""
      ],
      "metadata": {
        "id": "n99XJpPt7HnQ"
      },
      "execution_count": null,
      "outputs": []
    },
    {
      "cell_type": "markdown",
      "source": [
        "En la parte 1.a observaste la distribución de los precios de las casas. ¿Se ven outliers? Si es así, trabájalos a tu juicio. Es importante que expliques tu proceso de pensamiento al tomar tus decisiones."
      ],
      "metadata": {
        "id": "RJZAxYJGAKrx"
      }
    },
    {
      "cell_type": "code",
      "source": [
        ""
      ],
      "metadata": {
        "id": "7h6zLzVYAvHb"
      },
      "execution_count": null,
      "outputs": []
    },
    {
      "cell_type": "markdown",
      "source": [
        "### 1.c Separación del dataset (0.2 ptos)\n",
        "Necesitamos saber qué tan confiables son los modelos. Por esto, saca una pequeña muestra de tu dataset y déjala aparte. Es importante que no entrenes las regresiones con ellos. (Saca el 10% de los datos)"
      ],
      "metadata": {
        "id": "IJxmkCFCtFND"
      }
    },
    {
      "cell_type": "code",
      "source": [
        "# Completa aqui\n",
        "train_dataset = \n",
        "test_dataset ="
      ],
      "metadata": {
        "id": "OkZ98nhJmIVl"
      },
      "execution_count": null,
      "outputs": []
    },
    {
      "cell_type": "markdown",
      "source": [
        "### 1.d Transformación del dataset (0.5 ptos)"
      ],
      "metadata": {
        "id": "1hSJdEVhkvL8"
      }
    },
    {
      "cell_type": "markdown",
      "source": [
        "Ahora que ya tienes tu dataset trabajado y separado, necesitamos transformarlo a parámetros utilizables por la regresión a implementar. En la parte 3 se trabajará un poco más, pero por ahora, sólo separa el dataset en una matriz $X$ conteniendo todas las características, y un vector $y$ conteniendo la variable dependiente asociada a cada una de las filas de características.\n",
        "Es decir, $y$ es un vector de lo que queremos predecir, y $X$ es una matriz de lo que usaremos para hacerlo.\n",
        "Recomendamos **FUERTEMENTE** utilizar numpy para esto ya que tiene funciones muy útiles para manejo de matrices y vectores, pero no es obligación."
      ],
      "metadata": {
        "id": "1WUdnjl-k-XM"
      }
    },
    {
      "cell_type": "code",
      "source": [
        "# Obten los vectores X e y a partir de train_dataset\n",
        "X_train = \n",
        "y_train =\n",
        "X_test =\n",
        "y_test = "
      ],
      "metadata": {
        "id": "H_ca97vpmBW0"
      },
      "execution_count": null,
      "outputs": []
    },
    {
      "cell_type": "markdown",
      "source": [
        "## Parte 2: Regresión Lineal (2 ptos.)\n",
        "En esta parte, deberás hacer una implementación de una regresión lineal con el método \"Least squares\" (visto en clases). Para esto deberás completar la clase `LinearRegression`, en especifico sus métodos fit y predict. A continuación les planteamos dos formas equivalentes de implementar su método fit:\n"
      ],
      "metadata": {
        "id": "g_wS_X7mipCX"
      }
    },
    {
      "cell_type": "markdown",
      "source": [
        "### Forma A: sistema de ecuaciones\n",
        "\n",
        "Una regresión lineal se define de la siguiente manera:\n",
        "\n",
        "$$\\hat{y}-b_{0}=b_{1}\\left(x_{1}-\\bar{x}_{1}\\right)+b_{2}\\left(x_{2}-\\bar{x}_{2}\\right)+\\cdots+b_{k}\\left(x_{k}-\\bar{x}_{k}\\right)$$\n",
        "\n",
        "Es decir:\n",
        "\n",
        "$$\n",
        "\\hat{y}-b_{0}=\\sum_{j=1}^{k} b_{j}\\left(x_{j}-\\bar{x}_{j}\\right)\n",
        "$$\n",
        "\n",
        "$\\bf{Teorema}$: la mejor línea de regresión tiene forma:\n",
        "\n",
        "$$ \\hat{y} - \\overline{y} = \\sum_{j=1}^kb_j(x_j-\\overline{x_j})$$\n",
        "\n",
        "Donde $b_m$ son las soluciones a las siguientes $k$ ecuaciones con $k$ valores desconocidos.\n",
        "$$\n",
        "\\forall j\\in\\{1,m\\} \\quad \\operatorname{cov}\\left(y, x_{j}\\right)=\\sum_{m=1}^{k} b_{m} \\cdot \\operatorname{cov}\\left(x_{m}, x_{j}\\right)\n",
        "$$"
      ],
      "metadata": {
        "id": "hi4Y9SgLqFFb"
      }
    },
    {
      "cell_type": "markdown",
      "source": [
        "### Forma B: operaciones matriciales\n",
        "\n",
        "Podemos definir una regresión lineal múltiple como:\n",
        "\n",
        "$$\n",
        "\\mathrm{y}=\\mathrm{X} \\boldsymbol{\\beta}\n",
        "$$\n",
        "\n",
        "Donde:\n",
        "\n",
        "$$\n",
        "\\mathbf{X}=\\left[\\begin{array}{cccc}\n",
        "X_{10} & X_{11} & \\cdots & X_{1 (p-1)} \\\\\n",
        "X_{20} & X_{21} & \\cdots & X_{2 (p-1)} \\\\\n",
        "\\vdots & \\vdots & \\ddots & \\vdots \\\\\n",
        "X_{n 0} & X_{n 1} & \\cdots & X_{n (p-1)}\n",
        "\\end{array}\\right], \\quad \\boldsymbol{\\beta}=\\left[\\begin{array}{c}\n",
        "\\beta_{0} \\\\\n",
        "\\beta_{1} \\\\\n",
        "\\vdots \\\\\n",
        "\\beta_{p-1}\n",
        "\\end{array}\\right], \\quad \\mathbf{y}=\\left[\\begin{array}{c}\n",
        "y_{1} \\\\\n",
        "y_{2} \\\\\n",
        "\\vdots \\\\\n",
        "y_{n}\n",
        "\\end{array}\\right]\n",
        "$$\n",
        "\n",
        "(Notemos que para acomodarnos a esta definición, incluimos el alpha/$\\beta_0$ o intercepto dentro de nuestro vector $\\beta$, para que esto funcione, debemos agregarle una columna de 1s a la matrix $X$. En este caso, corresponden a todos los $X_{n0}$ )\n",
        "\n",
        "$\\bf{Teorema}$: podemos entonces encontrar los coeficientes $\\beta$ de la siguiente forma:\n",
        "\n",
        "$$\n",
        "\\hat{\\boldsymbol{\\beta}}=\\left(\\mathrm{X}^{\\top} \\mathrm{X}\\right)^{-1} \\mathrm{X}^{\\top} \\mathbf{y}\n",
        "$$\n"
      ],
      "metadata": {
        "id": "SZwSh3pJE0Ar"
      }
    },
    {
      "cell_type": "markdown",
      "source": [
        "Una vez ajustados estos coeficientes, tu método predict debe utilizarlos para calcular el valor de $y$ a partir de un vector de características $x$."
      ],
      "metadata": {
        "id": "qh5108XXH4bu"
      }
    },
    {
      "cell_type": "markdown",
      "source": [
        "### Implementación"
      ],
      "metadata": {
        "id": "HwwkkvkIvuaT"
      }
    },
    {
      "cell_type": "code",
      "source": [
        "class LinearRegression:\n",
        "  def __init__(self, X, y):\n",
        "    self.X = X\n",
        "    self.y = y\n",
        "    self.alpha = # Completar esto \n",
        "    self.betas = # Completar esto\n",
        "\n",
        "  def fit(self):\n",
        "    # Tienes que programar este método\n",
        "    pass\n",
        "\n",
        "  def predict(self, x):\n",
        "    # Tienes que programar este método\n",
        "    pass"
      ],
      "metadata": {
        "id": "cBfS1vXSssLl"
      },
      "execution_count": null,
      "outputs": []
    },
    {
      "cell_type": "markdown",
      "source": [
        "Hecho esto, prueba tu Regresión Lineal entrenándola con la matriz $X$ y el vector $y$ de entrenamiento que obtuviste anteriormente."
      ],
      "metadata": {
        "id": "4SYZmYRjwdq4"
      }
    },
    {
      "cell_type": "code",
      "source": [
        ""
      ],
      "metadata": {
        "id": "kPFn7ThQw65w"
      },
      "execution_count": null,
      "outputs": []
    },
    {
      "cell_type": "markdown",
      "source": [
        "Prueba predecir el valor del precio de algunas (al menos 5) filas de tu matriz $X$ de prueba (separada en 1.c). ¿Que tanto se parece al precio real? ¿A que se puede deber este resultado?"
      ],
      "metadata": {
        "id": "V4Cyk-Vew7Ks"
      }
    },
    {
      "cell_type": "code",
      "source": [
        ""
      ],
      "metadata": {
        "id": "z5c0kf8a6VAD"
      },
      "execution_count": null,
      "outputs": []
    },
    {
      "cell_type": "markdown",
      "source": [
        "## Parte 3: Regresión Logística (2.5 ptos.)\n",
        "En esta parte, deberás hacer una implementación de una regresión logística que entrene sus coeficientes empleando descenso de gradiente. Antes que nada, y como se vio en clases, utilizamos regresiones logísticas para clasificar si un dato pertenece o no a una clase.\n",
        "\n",
        "Primero debes modificar el vector $y$ para que represente una clase binaria. En este caso definiremos que una case pertenece a:\n",
        "\n",
        "\n",
        "*   Clase 1 si es que su precio es mayor o igual a USD $1.000.000\n",
        "*   Clase 0 en cualquier otro caso.\n",
        "\n",
        "Este será el nuevo vector a predecir."
      ],
      "metadata": {
        "id": "N-l1r1fTirYm"
      }
    },
    {
      "cell_type": "code",
      "source": [
        "# Modifica el vector y según lo anterior. Recuerda modificar ambos vectores: el vector de entrenamiento y el de testeo.\n"
      ],
      "metadata": {
        "id": "INuMrqxqgjl-"
      },
      "execution_count": null,
      "outputs": []
    },
    {
      "cell_type": "markdown",
      "source": [
        "En el codigo de abajo hay una clase llamada `LogisticRegression` cuyo constructor recibe como parámetro el número de _features_ que espera recibir. Tienes que completar esta clase para que pueda entrenar y predecir. Lo que necesitas es:\n",
        "- Programar el método `fit`. Tienes que utilizar el algoritmo _Gradient Descent_ visto en clases.\n",
        "- Programar el método `predict` que asume que tu modelo ya está entrenado.\n",
        "\n",
        "Para hacer esto puedes hacer los supuestos razonables que estimes conveniente. Además, si te acomoda trabajar sin clases puedes hacerlo, mientras uses el algoritmo de _Gradient Descent_.\n",
        "Recuerda además que el gradiente de la función objetivo para cada $\\beta_i$ es:\n",
        "$$ \\frac{\\delta}{\\delta \\beta_i}L(\\beta) = \\frac{lr}{m} \\sum_{1 \\leq j \\leq m} (\\sigma(\\beta^T x^j) - y_j) x_i^j $$\n",
        "\n",
        "Donde $L(\\beta)$ es la función de verosimilitud, $lr$ es el learning rate, $\\beta$ es el vector de coeficientes para la regresión, tenemos $m$ filas en nuestro _dataset_, $\\sigma(x)$ es la función $\\frac{1}{1 + e^{-x}}$, $x^j$ es la fila $j$ de nuestro dataset (y asociado tiene su respuesta $y_j$) y finalmente $x_i^j$ es la columna $i$ de la fila $j$ en nuestro _dataset_."
      ],
      "metadata": {
        "id": "1C4KuKOsztAL"
      }
    },
    {
      "cell_type": "code",
      "source": [
        "import numpy as np #Si lo importaste antes, esta linea no es necesaria.\n",
        "\n",
        "def sigmoid(x):    \n",
        "    output = 1 / (1 + np.exp(-x))\n",
        "    return output\n",
        "\n",
        "class LogisticRegression:\n",
        "    def __init__(self, number_of_features, learning_rate=0.001, number_of_iterations=100):\n",
        "        self.learning_rate = learning_rate\n",
        "        self.number_of_iterations = number_of_iterations\n",
        "        self.beta = # Completar aquí\n",
        "        \n",
        "    def fit(self, X, y):\n",
        "        # Tienes que programar este método\n",
        "        pass\n",
        "    \n",
        "    def predict(self, x):\n",
        "        # Tienes que programar este método\n",
        "        pass\n",
        "\n"
      ],
      "metadata": {
        "id": "aQp6k-r_iulU"
      },
      "execution_count": null,
      "outputs": []
    },
    {
      "cell_type": "markdown",
      "source": [
        "Hecho esto, prueba tu regresión logística entrenándola con la matriz $X$ y el nuevo vector binario $y$ de entrenamiento que obtuviste anteriormente."
      ],
      "metadata": {
        "id": "g5OyqcSF0B0T"
      }
    },
    {
      "cell_type": "code",
      "source": [
        ""
      ],
      "metadata": {
        "id": "kMMnof5r0BLd"
      },
      "execution_count": null,
      "outputs": []
    },
    {
      "cell_type": "markdown",
      "source": [
        "Prueba predecir la categoría del precio de algunas (al menos 5) filas de tu matriz $X$ de prueba (separada en 1.c). ¿Es correcta la predicción? ¿A que se puede deber este resultado?"
      ],
      "metadata": {
        "id": "WqrYWhvi0Map"
      }
    },
    {
      "cell_type": "code",
      "source": [
        ""
      ],
      "metadata": {
        "id": "DgNx92GR61qt"
      },
      "execution_count": null,
      "outputs": []
    },
    {
      "cell_type": "markdown",
      "source": [
        "## Parte 4 (BONUS): Meme (1-2 décimas)"
      ],
      "metadata": {
        "id": "i1cFMUtih7Bk"
      }
    },
    {
      "cell_type": "markdown",
      "source": [
        "Haga un meme. Si es bueno, décimas extra. SÓLO MEMES RELACIONADOS AL CURSO PORFAVOR."
      ],
      "metadata": {
        "id": "525EvYD9h94u"
      }
    }
  ]
}