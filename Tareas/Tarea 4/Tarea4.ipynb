{
  "nbformat": 4,
  "nbformat_minor": 0,
  "metadata": {
    "colab": {
      "name": "Tarea 4.ipynb",
      "provenance": [],
      "collapsed_sections": [
        "rwAxkF2b66Nx"
      ],
      "toc_visible": true
    },
    "kernelspec": {
      "name": "python3",
      "display_name": "Python 3"
    },
    "language_info": {
      "name": "python"
    }
  },
  "cells": [
    {
      "cell_type": "markdown",
      "source": [
        "Pontificia Universidad Católica de Chile <br>\n",
        "Departamento de Ciencia de la Computación <br>\n",
        "IIC2433 - Minería de Datos\n",
        "<br>\n",
        "\n",
        "<center>\n",
        "    <h2> Tarea 4 </h2>\n",
        "    <h1> El puesto de DATiles de Viocente </h1>\n",
        "    <p>\n",
        "        Profesor Vicente Domínguez<br>\n",
        "        Primer semestre 2022<br>    \n",
        "        Fecha de entrega: Viernes 10 de Junio a las 22:00hrs.\n",
        "    </p>\n",
        "    <br>\n",
        "</center>\n",
        "\n",
        "<br>\n",
        "\n",
        "---"
      ],
      "metadata": {
        "id": "hDwsRDrmRGQ_"
      }
    },
    {
      "cell_type": "markdown",
      "source": [
        "Luego de estar aprendiendo técnicas para trading de cryptomonedas y poder finalmente llegar a alcanzar la libertad financiera, descubres que PCA se inventó el 1901. Supones tienen que existir algoritmos mejores, por lo que consultas al gurú Viocente. Él te dice que para poder superar cualquier bot de trading, lo único que necesitas es ser un experto en clustering y reducción de dimensionalidad.\n",
        "\n",
        "Por esto decides tomar el dataset de las frutas más _Data Mining_ que existen, [los Dátiles](https://www.kaggle.com/datasets/muratkokludataset/date-fruit-datasets), extraídos del baúl de Viocente, para probar finalmente cuál es el MEJOR algoritmo para reducir la dimensionalidad y para realizar unos lindos clusters. "
      ],
      "metadata": {
        "id": "u7k6xqZC-7aK"
      }
    },
    {
      "cell_type": "markdown",
      "source": [
        "# Parte 1: Carga y preprocesamiento (0.5 puntos)\n",
        "Cargue los datos y librerías, y realice preprocesamiento en caso de necesitarlo.\n"
      ],
      "metadata": {
        "id": "57Hj3WKIXeUE"
      }
    },
    {
      "cell_type": "code",
      "source": [
        ""
      ],
      "metadata": {
        "id": "gwVEGXmoIgOH"
      },
      "execution_count": null,
      "outputs": []
    },
    {
      "cell_type": "markdown",
      "source": [
        "# Parte 2: Reducción de dimensionalidades (1 punto)\n",
        "\n",
        "Para esta parte deben reducir la dimensionalidad de los datos utilizando los métodos de: PCA, t-SNE y UMAP. \n",
        "Para esto puede utilizar las librerías que estime conveniente. \n",
        "\n",
        "Reduzca los datos a dos dimensiones y grafiquelos para cada caso. \n",
        "\n",
        "Importante: Debe buscar los hiperparámetros que mejor separen los datos según los conocimientos que ya posee. (pruebe almenos 5)"
      ],
      "metadata": {
        "id": "ckUQxzowXe8-"
      }
    },
    {
      "cell_type": "code",
      "source": [
        "# PCA"
      ],
      "metadata": {
        "id": "CXBWZkCuXfFZ"
      },
      "execution_count": null,
      "outputs": []
    },
    {
      "cell_type": "code",
      "source": [
        "# t-SNE"
      ],
      "metadata": {
        "id": "molqBXFFX-in"
      },
      "execution_count": null,
      "outputs": []
    },
    {
      "cell_type": "code",
      "source": [
        "# UMAP"
      ],
      "metadata": {
        "id": "AUWJPBW2X-sS"
      },
      "execution_count": null,
      "outputs": []
    },
    {
      "cell_type": "markdown",
      "source": [
        "# Parte 3: Preguntas Reducción de dimensionalidad (1.8 Puntos)"
      ],
      "metadata": {
        "id": "UJY7VLurPGNE"
      }
    },
    {
      "cell_type": "markdown",
      "source": [
        "### Pregunta 3.0 (0.2 puntos): Al momento de utilizar UMAP y t-SNE existe una gran diferencia si conocemos cuantos grupos de datos existen. Explique por qué, como minador de datos experto, es ESCENCIAL entender la diferencia entre PCA y algoritmos como t-SNE y UMAP."
      ],
      "metadata": {
        "id": "Z4LjodnsYU9a"
      }
    },
    {
      "cell_type": "markdown",
      "source": [
        "## Preguntas sobre t-SNE (1 punto):\n",
        "Para responder las preguntas recomendamos apoyarte utilizando este [paper de t-SNE](https://www.jmlr.org/papers/volume9/vandermaaten08a/vandermaaten08a.pdf).\n",
        "\n",
        "### Pregunta 3.1: ¿Es correcto decir que t-SNE mide distancias entre datos? Justifique su respuesta y explique el proceso. \n",
        "\n",
        "\n",
        "\n",
        "### Pregunta 3.2: En su descripción teórica se describen dos variables de probabilidad distintas *p* y *q*. ¿Cuál es el objetivo de su definición? ¿Qué tanto afecta su relación al proceso de reducción de dimensionalidad?\n",
        "\n",
        "\n",
        "### Pregunta 3.3: ¿Qué ventajas tiene t-SNE por sobre SNE? Mencione almenos dos\n",
        "\n"
      ],
      "metadata": {
        "id": "kz3fRs7FYChP"
      }
    },
    {
      "cell_type": "markdown",
      "source": [
        "## Pregunta UMAP (0.6 puntos):\n",
        "\n",
        "### Pregunta 3.4: UMAP tiene 2 diferencias importantes con t-SNE, explique estas diferencias y mencione que implican al momento de ejecutar el argortimo.\n",
        "\n",
        "Les recomendamos ver el siguiente [video](https://www.youtube.com/watch?v=eN0wFzBA4Sc)"
      ],
      "metadata": {
        "id": "LAY6ecBc346H"
      }
    },
    {
      "cell_type": "markdown",
      "source": [
        "# Parte 4: Clustering (2 puntos)\n",
        "\n",
        "En esta parte construirás clusters usando algoritmos conocidos y compararás precisiones:\n",
        "\n",
        "1. Para cada pregunta, prueba reduciendo a 2 y 5 dimensiones para cada tipo de reducción de la Parte 2.\n",
        "\n",
        "1. Deberás obtener el puntaje [Rand index](https://scikit-learn.org/stable/modules/generated/sklearn.metrics.rand_score.html) de los clusters generados.\n",
        "\n",
        "1. Obtén la cohesión de cada cluster (SSW) y la medida inter-cluster (SSB)\n",
        "\n",
        "1. Visualiza la clasificación del caso de 2 dimensiones\n",
        "\n",
        "\n"
      ],
      "metadata": {
        "id": "4SfluF77-IiZ"
      }
    },
    {
      "cell_type": "markdown",
      "source": [
        "## Parte 4.1: K-means (1 punto)\n",
        "Utilice k-means para obtener clusters utilizando las reducciones de dimensionalidad vistas anteriormente.\n"
      ],
      "metadata": {
        "id": "N0r8XMDifHHu"
      }
    },
    {
      "cell_type": "code",
      "source": [
        ""
      ],
      "metadata": {
        "id": "Qq3elYe6-qkd"
      },
      "execution_count": null,
      "outputs": []
    },
    {
      "cell_type": "markdown",
      "source": [
        "## Parte 4.2: DBSCAN (1 punto)\n",
        "\n",
        "Utilice DBSCAN para cada uno de los datos a los que se les aplicó reducción de dimensiones."
      ],
      "metadata": {
        "id": "oAYi6Inb-rzG"
      }
    },
    {
      "cell_type": "code",
      "source": [
        ""
      ],
      "metadata": {
        "id": "LwvSAAJZ_Ska"
      },
      "execution_count": null,
      "outputs": []
    },
    {
      "cell_type": "markdown",
      "source": [
        "# Parte 5: Visualización (0.2 puntos)\n",
        "Visualize el top 3 de clasificaciones en 2 dimensiones. Argumente en que se basó para definir que eran los mejores. \n",
        "\n",
        "\n",
        "\n",
        "\n"
      ],
      "metadata": {
        "id": "Fxx6Llel_tYn"
      }
    },
    {
      "cell_type": "code",
      "source": [
        ""
      ],
      "metadata": {
        "id": "7m0fFZHa_s7W"
      },
      "execution_count": null,
      "outputs": []
    },
    {
      "cell_type": "markdown",
      "source": [
        "# Parte 6: Preguntas Clustering: (0.5 puntos)\n",
        "\n",
        "### Pregunta 6.1:\n",
        "\n",
        "¿Cuál es la mejor combinación para este dataset? ¿Por qué podría haberse dado esto?\n",
        "\n",
        "### Pregunta 6.2:\n",
        "\n",
        "Mencione tres diferencias entre K-means y DBSCAN.\n"
      ],
      "metadata": {
        "id": "vW2NRaxq9SIV"
      }
    },
    {
      "cell_type": "markdown",
      "source": [
        "# Bonus\n",
        "Esta tarea cuenta con un bonus al que podrás optar. Cabe recalcar que para optar a este beneficio la nota de tu tarea (sin bonus) debe ser igual o superior a 3,95 (sin considerar posibles descuentos)."
      ],
      "metadata": {
        "id": "FPxzwHcsWC5t"
      }
    },
    {
      "cell_type": "markdown",
      "source": [
        "## Meme (hasta 2 décimas)\n",
        "\n",
        "Haga un meme relacionado a la material del curso. Se dará el bonus a los **10 mejores** memes de la sección. (evaluado por el consejo de ayudantes)."
      ],
      "metadata": {
        "id": "rwAxkF2b66Nx"
      }
    },
    {
      "cell_type": "code",
      "source": [
        ""
      ],
      "metadata": {
        "id": "nmCOqKAn_Gqq"
      },
      "execution_count": null,
      "outputs": []
    }
  ]
}