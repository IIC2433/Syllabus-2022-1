{
  "nbformat": 4,
  "nbformat_minor": 0,
  "metadata": {
    "colab": {
      "name": "Tarea 3.ipynb",
      "provenance": [],
      "collapsed_sections": [
        "1is00TH14aJS",
        "aRBIyhbc4c4n",
        "iygFnoiR6Y4P",
        "TNmIRWvT8zOQ"
      ]
    },
    "kernelspec": {
      "name": "python3",
      "display_name": "Python 3"
    },
    "language_info": {
      "name": "python"
    }
  },
  "cells": [
    {
      "cell_type": "markdown",
      "source": [
        "Pontificia Universidad Católica de Chile <br>\n",
        "Departamento de Ciencia de la Computación <br>\n",
        "IIC2433 - Minería de Datos\n",
        "<br>\n",
        "\n",
        "<center>\n",
        "    <h2> Tarea 3 </h2>\n",
        "    <h1> El choque de civilizaciones de Samuel Huntington </h1>\n",
        "    <p>\n",
        "        Profesor Vicente Domínguez<br>\n",
        "        Primer semestre 2022<br>    \n",
        "        Fecha de entrega: Viernes 13 de mayo\n",
        "    </p>\n",
        "    <br>\n",
        "</center>\n",
        "\n",
        "<br>\n",
        "\n",
        "---"
      ],
      "metadata": {
        "id": "PrMkVmvSHWSl"
      }
    },
    {
      "cell_type": "markdown",
      "source": [
        "# Indicaciones"
      ],
      "metadata": {
        "id": "MEpnLASjHweW"
      }
    },
    {
      "cell_type": "markdown",
      "source": [
        "Deberás entregar SOLO el archivo .ipynb en el buzón respectivo en canvas. \n",
        "\n",
        "**IMPORTANTE**: \n",
        "- Se te dará puntaje tanto por código como por la manera en la que respondas las preguntas planteadas. Es decir, si tienes un código perfecto pero este no es explicado o no se responden preguntas asociadas a este, no se tendrá el puntaje completo.\n",
        "- El notebook debe tener todas las celdas de código ejecutadas. Cualquier notebook que no las tenga no podrá ser corregido.\n",
        "- El carácter de esta tarea es **INDIVIDUAL**. Cualquier instancia de copia resultará en un 1,1 como nota de curso.\n"
      ],
      "metadata": {
        "id": "ADv_MGAQH3HV"
      }
    },
    {
      "cell_type": "markdown",
      "source": [
        "# Librerías"
      ],
      "metadata": {
        "id": "ierXD1roH64v"
      }
    },
    {
      "cell_type": "markdown",
      "source": [
        "Librerías aceptadas:\n",
        "- `Numpy`\n",
        "- `Pandas`\n",
        "- `Matplotlib`\n",
        "- `Seaborn`\n",
        "\n",
        "Clases y funciones aceptadas de la librería `sklearn`:\n",
        "- `silhouette_score` del módulo `metrics`\n",
        "- `pca` del módulo `decomposition` (solo para la parte 4!)\n",
        "\n",
        "Librerías y funciones prohibidas:\n",
        "- Cualquier otra función de `sklearn`\n",
        "- *Cualquier otra librería que maneje y prediga datos* \n",
        "\n",
        "<br>\n",
        "\n",
        "---"
      ],
      "metadata": {
        "id": "D5ygBTZmH_GQ"
      }
    },
    {
      "cell_type": "markdown",
      "source": [
        "# Introducción\n",
        "\n",
        "La teoría de civilizaciones de Samuel Huntington plantea como hipótesis que el mayor nivel de identificación cultural de una persona está dado por la civilización a la que pertenece. Citando el artículo de 1993 de Huntington:\n",
        "\n",
        "> *Los Estados-nación seguirán siendo los actores más poderosos del panorama internacional, pero los principales conflictos de la política global ocurrirán entre naciones y grupos de naciones pertenecientes a diferentes civilizaciones. El choque de civilizaciones dominará la política global. Las fallas entre las civilizaciones serán los frentes de batalla del futuro.*\n",
        "\n",
        "Si bien esta aglomeración de países en civilizaciones tiende al debate político, estudios como el de la universidad de [Stanford](https://journals.plos.org/plosone/article?id=10.1371/journal.pone.0122543) han observado que el comportamiento de individuos en el Internet (como por ejemplo, en el intercambio de correos electrónicos) exhibe tendencias que conforman las grandes agrupaciones correspondientes a las civilizaciones descritas por Huntington.\n",
        "\n",
        "<br>\n",
        "<center>\n",
        "<img src=\"https://upload.wikimedia.org/wikipedia/commons/thumb/c/ca/Civilizations_map.png/750px-Civilizations_map.png\" width=\"400\"/>\n",
        "\n",
        "Fuente: https://es.wikipedia.org/wiki/Choque_de_civilizaciones\n",
        "\n",
        "</center>\n",
        "\n",
        "# ¿Cuál es tu tarea?\n",
        "\n",
        "Como expert@ en minería de datos, se te encarga programar un algoritmo de *clustering* jerárquico aglomerativo que permita identificar una cantidad *n* de civilizaciones a partir cierta información de cada país del mundo."
      ],
      "metadata": {
        "id": "bEgcMAePImIa"
      }
    },
    {
      "cell_type": "markdown",
      "source": [
        "# Descripción dataset\n",
        "\n",
        "El *dataset* a utilizar proviene de [World Values Survey](https://www.worldvaluessurvey.org/wvs.jsp), una organización que desde los años 80 realiza encuentas valóricas en distintos países. En esta tarea, trabajaremos con los datos de 81 países recolectados entre 2017 y 2020. En total son 231 preguntas, cada una de ellas tiene distintas respuestas, cada una de las cuales representa a una de las 768 columnas del *dataset*. Por ejemplo, la pregunta `A001` es `Important in life: Family`, la cual es respondida entre los valores 1 y 4. Así, vemos que en Argentina cerca del 91% de las personas responden 1 a esa pregunda (ver `A001_1`), mientras que el 0% responde con 4. Los temas de las preguntas son variados, entre los que se encuentran las posiciones de las personas de cada país frente a, por ejemplo, el aborto, la importancia de la religión, el sentimiento de felicidad, la confianza en el gobierno y la valoración de la democracia. Puedes visitar la página web de WVS para obtener más información."
      ],
      "metadata": {
        "id": "1Obmie2POG9P"
      }
    },
    {
      "cell_type": "markdown",
      "source": [
        "# Parte 1: Carga y preprocesamiento (0.5 ptos)\n"
      ],
      "metadata": {
        "id": "1is00TH14aJS"
      }
    },
    {
      "cell_type": "code",
      "source": [
        "import pandas as pd\n",
        "import numpy as np\n",
        "from collections import defaultdict"
      ],
      "metadata": {
        "id": "pIomveQTIcNp"
      },
      "execution_count": 1,
      "outputs": []
    },
    {
      "cell_type": "markdown",
      "source": [
        "La base de datos se encuentra contenida en el archivo `countries.csv`, el cual pueden cargar directamente al notebook o mediante un link de Google Drive."
      ],
      "metadata": {
        "id": "tkyre7wO2X0E"
      }
    },
    {
      "cell_type": "code",
      "source": [
        "# url='countries.csv'\n",
        "# url='https://drive.google.com/uc?id=1_wiSDk4zy2dJf0ZzJaLslz3IVkruq_wZ'\n",
        "\n",
        "df = pd.read_csv(url, index_col=0)\n",
        "df"
      ],
      "metadata": {
        "id": "TvMcru4xaNHW",
        "colab": {
          "base_uri": "https://localhost:8080/",
          "height": 554
        },
        "outputId": "a4721bb8-c464-49d2-f956-fa0be02a49cb"
      },
      "execution_count": 2,
      "outputs": [
        {
          "output_type": "execute_result",
          "data": {
            "text/plain": [
              "                            A001_1    A001_2    A001_3    A001_4    A002_1  \\\n",
              "CNTRYCOW                                                                     \n",
              "Albania                   0.981092  0.017507  0.001401  0.000000  0.355944   \n",
              "Andorra                   0.895418  0.096614  0.004980  0.002988  0.548805   \n",
              "Argentina                 0.909272  0.089731  0.000997  0.000000  0.568295   \n",
              "Armenia                   0.898599  0.094730  0.004670  0.002001  0.395194   \n",
              "Australia                 0.907377  0.077094  0.013311  0.002219  0.566818   \n",
              "...                            ...       ...       ...       ...       ...   \n",
              "Turkey                    0.917978  0.073737  0.006214  0.002071  0.617330   \n",
              "Ukraine                   0.875346  0.112188  0.010042  0.002424  0.350731   \n",
              "United States of America  0.893174  0.085229  0.018511  0.003085  0.482385   \n",
              "Vietnam                   0.968333  0.025833  0.003333  0.002500  0.221667   \n",
              "Zimbabwe                  0.962902  0.035449  0.001649  0.000000  0.298927   \n",
              "\n",
              "                            A002_2    A002_3    A002_4    A003_1    A003_2  \\\n",
              "CNTRYCOW                                                                     \n",
              "Albania                   0.562937  0.072028  0.009091  0.182517  0.635664   \n",
              "Andorra                   0.374502  0.068725  0.007968  0.629482  0.323705   \n",
              "Argentina                 0.339980  0.073779  0.017946  0.373373  0.469469   \n",
              "Armenia                   0.482644  0.110814  0.011348  0.272605  0.498995   \n",
              "Australia                 0.389015  0.041903  0.002265  0.426538  0.504556   \n",
              "...                            ...       ...       ...       ...       ...   \n",
              "Turkey                    0.349917  0.028607  0.004146  0.544813  0.381328   \n",
              "Ukraine                   0.545581  0.088727  0.014962  0.360224  0.480182   \n",
              "United States of America  0.413086  0.096012  0.008517  0.390008  0.498064   \n",
              "Vietnam                   0.658333  0.110833  0.009167  0.128333  0.525000   \n",
              "Zimbabwe                  0.480595  0.181668  0.038811  0.388477  0.417284   \n",
              "\n",
              "                          ...    H010_1    H010_2    H010_3    H010_4  \\\n",
              "CNTRYCOW                  ...                                           \n",
              "Albania                   ...  0.104167  0.203305  0.160201  0.532328   \n",
              "Andorra                   ...  0.036853  0.063745  0.173307  0.726096   \n",
              "Argentina                 ...  0.074035  0.188738  0.215850  0.521376   \n",
              "Armenia                   ...  0.156504  0.277100  0.275745  0.290650   \n",
              "Australia                 ...  0.075851  0.247630  0.367540  0.308979   \n",
              "...                       ...       ...       ...       ...       ...   \n",
              "Turkey                    ...  0.050693  0.127816  0.364385  0.457106   \n",
              "Ukraine                   ...  0.019378  0.094333  0.286654  0.599634   \n",
              "United States of America  ...  0.045010  0.169863  0.355382  0.429746   \n",
              "Vietnam                   ...  0.040833  0.111667  0.334167  0.513333   \n",
              "Zimbabwe                  ...  0.150125  0.139283  0.110092  0.600500   \n",
              "\n",
              "                            H011_1    H011_2    H011_3    H011_4   G027A_1  \\\n",
              "CNTRYCOW                                                                     \n",
              "Albania                   0.135908  0.204578  0.153791  0.505722  0.995816   \n",
              "Andorra                   0.041874  0.086740  0.127617  0.743769  0.276892   \n",
              "Argentina                 0.136698  0.227129  0.208202  0.427971  0.979063   \n",
              "Armenia                   0.195946  0.289189  0.247297  0.267568  0.963333   \n",
              "Australia                 0.104619  0.229827  0.303840  0.361714  0.928453   \n",
              "...                            ...       ...       ...       ...       ...   \n",
              "Turkey                    0.058442  0.136364  0.345022  0.460173  0.996687   \n",
              "Ukraine                   0.033151  0.135519  0.246630  0.584699  0.957138   \n",
              "United States of America  0.073828  0.197656  0.319141  0.409375  0.894322   \n",
              "Vietnam                   0.056667  0.177500  0.325000  0.440833  1.000000   \n",
              "Zimbabwe                  0.164725  0.123128  0.106489  0.605657  0.993410   \n",
              "\n",
              "                           G027A_2  \n",
              "CNTRYCOW                            \n",
              "Albania                   0.004184  \n",
              "Andorra                   0.723108  \n",
              "Argentina                 0.020937  \n",
              "Armenia                   0.036667  \n",
              "Australia                 0.071547  \n",
              "...                            ...  \n",
              "Turkey                    0.003313  \n",
              "Ukraine                   0.042862  \n",
              "United States of America  0.105678  \n",
              "Vietnam                   0.000000  \n",
              "Zimbabwe                  0.006590  \n",
              "\n",
              "[81 rows x 768 columns]"
            ],
            "text/html": [
              "\n",
              "  <div id=\"df-b382a1f3-f37d-4150-93cd-98279c60d670\">\n",
              "    <div class=\"colab-df-container\">\n",
              "      <div>\n",
              "<style scoped>\n",
              "    .dataframe tbody tr th:only-of-type {\n",
              "        vertical-align: middle;\n",
              "    }\n",
              "\n",
              "    .dataframe tbody tr th {\n",
              "        vertical-align: top;\n",
              "    }\n",
              "\n",
              "    .dataframe thead th {\n",
              "        text-align: right;\n",
              "    }\n",
              "</style>\n",
              "<table border=\"1\" class=\"dataframe\">\n",
              "  <thead>\n",
              "    <tr style=\"text-align: right;\">\n",
              "      <th></th>\n",
              "      <th>A001_1</th>\n",
              "      <th>A001_2</th>\n",
              "      <th>A001_3</th>\n",
              "      <th>A001_4</th>\n",
              "      <th>A002_1</th>\n",
              "      <th>A002_2</th>\n",
              "      <th>A002_3</th>\n",
              "      <th>A002_4</th>\n",
              "      <th>A003_1</th>\n",
              "      <th>A003_2</th>\n",
              "      <th>...</th>\n",
              "      <th>H010_1</th>\n",
              "      <th>H010_2</th>\n",
              "      <th>H010_3</th>\n",
              "      <th>H010_4</th>\n",
              "      <th>H011_1</th>\n",
              "      <th>H011_2</th>\n",
              "      <th>H011_3</th>\n",
              "      <th>H011_4</th>\n",
              "      <th>G027A_1</th>\n",
              "      <th>G027A_2</th>\n",
              "    </tr>\n",
              "    <tr>\n",
              "      <th>CNTRYCOW</th>\n",
              "      <th></th>\n",
              "      <th></th>\n",
              "      <th></th>\n",
              "      <th></th>\n",
              "      <th></th>\n",
              "      <th></th>\n",
              "      <th></th>\n",
              "      <th></th>\n",
              "      <th></th>\n",
              "      <th></th>\n",
              "      <th></th>\n",
              "      <th></th>\n",
              "      <th></th>\n",
              "      <th></th>\n",
              "      <th></th>\n",
              "      <th></th>\n",
              "      <th></th>\n",
              "      <th></th>\n",
              "      <th></th>\n",
              "      <th></th>\n",
              "      <th></th>\n",
              "    </tr>\n",
              "  </thead>\n",
              "  <tbody>\n",
              "    <tr>\n",
              "      <th>Albania</th>\n",
              "      <td>0.981092</td>\n",
              "      <td>0.017507</td>\n",
              "      <td>0.001401</td>\n",
              "      <td>0.000000</td>\n",
              "      <td>0.355944</td>\n",
              "      <td>0.562937</td>\n",
              "      <td>0.072028</td>\n",
              "      <td>0.009091</td>\n",
              "      <td>0.182517</td>\n",
              "      <td>0.635664</td>\n",
              "      <td>...</td>\n",
              "      <td>0.104167</td>\n",
              "      <td>0.203305</td>\n",
              "      <td>0.160201</td>\n",
              "      <td>0.532328</td>\n",
              "      <td>0.135908</td>\n",
              "      <td>0.204578</td>\n",
              "      <td>0.153791</td>\n",
              "      <td>0.505722</td>\n",
              "      <td>0.995816</td>\n",
              "      <td>0.004184</td>\n",
              "    </tr>\n",
              "    <tr>\n",
              "      <th>Andorra</th>\n",
              "      <td>0.895418</td>\n",
              "      <td>0.096614</td>\n",
              "      <td>0.004980</td>\n",
              "      <td>0.002988</td>\n",
              "      <td>0.548805</td>\n",
              "      <td>0.374502</td>\n",
              "      <td>0.068725</td>\n",
              "      <td>0.007968</td>\n",
              "      <td>0.629482</td>\n",
              "      <td>0.323705</td>\n",
              "      <td>...</td>\n",
              "      <td>0.036853</td>\n",
              "      <td>0.063745</td>\n",
              "      <td>0.173307</td>\n",
              "      <td>0.726096</td>\n",
              "      <td>0.041874</td>\n",
              "      <td>0.086740</td>\n",
              "      <td>0.127617</td>\n",
              "      <td>0.743769</td>\n",
              "      <td>0.276892</td>\n",
              "      <td>0.723108</td>\n",
              "    </tr>\n",
              "    <tr>\n",
              "      <th>Argentina</th>\n",
              "      <td>0.909272</td>\n",
              "      <td>0.089731</td>\n",
              "      <td>0.000997</td>\n",
              "      <td>0.000000</td>\n",
              "      <td>0.568295</td>\n",
              "      <td>0.339980</td>\n",
              "      <td>0.073779</td>\n",
              "      <td>0.017946</td>\n",
              "      <td>0.373373</td>\n",
              "      <td>0.469469</td>\n",
              "      <td>...</td>\n",
              "      <td>0.074035</td>\n",
              "      <td>0.188738</td>\n",
              "      <td>0.215850</td>\n",
              "      <td>0.521376</td>\n",
              "      <td>0.136698</td>\n",
              "      <td>0.227129</td>\n",
              "      <td>0.208202</td>\n",
              "      <td>0.427971</td>\n",
              "      <td>0.979063</td>\n",
              "      <td>0.020937</td>\n",
              "    </tr>\n",
              "    <tr>\n",
              "      <th>Armenia</th>\n",
              "      <td>0.898599</td>\n",
              "      <td>0.094730</td>\n",
              "      <td>0.004670</td>\n",
              "      <td>0.002001</td>\n",
              "      <td>0.395194</td>\n",
              "      <td>0.482644</td>\n",
              "      <td>0.110814</td>\n",
              "      <td>0.011348</td>\n",
              "      <td>0.272605</td>\n",
              "      <td>0.498995</td>\n",
              "      <td>...</td>\n",
              "      <td>0.156504</td>\n",
              "      <td>0.277100</td>\n",
              "      <td>0.275745</td>\n",
              "      <td>0.290650</td>\n",
              "      <td>0.195946</td>\n",
              "      <td>0.289189</td>\n",
              "      <td>0.247297</td>\n",
              "      <td>0.267568</td>\n",
              "      <td>0.963333</td>\n",
              "      <td>0.036667</td>\n",
              "    </tr>\n",
              "    <tr>\n",
              "      <th>Australia</th>\n",
              "      <td>0.907377</td>\n",
              "      <td>0.077094</td>\n",
              "      <td>0.013311</td>\n",
              "      <td>0.002219</td>\n",
              "      <td>0.566818</td>\n",
              "      <td>0.389015</td>\n",
              "      <td>0.041903</td>\n",
              "      <td>0.002265</td>\n",
              "      <td>0.426538</td>\n",
              "      <td>0.504556</td>\n",
              "      <td>...</td>\n",
              "      <td>0.075851</td>\n",
              "      <td>0.247630</td>\n",
              "      <td>0.367540</td>\n",
              "      <td>0.308979</td>\n",
              "      <td>0.104619</td>\n",
              "      <td>0.229827</td>\n",
              "      <td>0.303840</td>\n",
              "      <td>0.361714</td>\n",
              "      <td>0.928453</td>\n",
              "      <td>0.071547</td>\n",
              "    </tr>\n",
              "    <tr>\n",
              "      <th>...</th>\n",
              "      <td>...</td>\n",
              "      <td>...</td>\n",
              "      <td>...</td>\n",
              "      <td>...</td>\n",
              "      <td>...</td>\n",
              "      <td>...</td>\n",
              "      <td>...</td>\n",
              "      <td>...</td>\n",
              "      <td>...</td>\n",
              "      <td>...</td>\n",
              "      <td>...</td>\n",
              "      <td>...</td>\n",
              "      <td>...</td>\n",
              "      <td>...</td>\n",
              "      <td>...</td>\n",
              "      <td>...</td>\n",
              "      <td>...</td>\n",
              "      <td>...</td>\n",
              "      <td>...</td>\n",
              "      <td>...</td>\n",
              "      <td>...</td>\n",
              "    </tr>\n",
              "    <tr>\n",
              "      <th>Turkey</th>\n",
              "      <td>0.917978</td>\n",
              "      <td>0.073737</td>\n",
              "      <td>0.006214</td>\n",
              "      <td>0.002071</td>\n",
              "      <td>0.617330</td>\n",
              "      <td>0.349917</td>\n",
              "      <td>0.028607</td>\n",
              "      <td>0.004146</td>\n",
              "      <td>0.544813</td>\n",
              "      <td>0.381328</td>\n",
              "      <td>...</td>\n",
              "      <td>0.050693</td>\n",
              "      <td>0.127816</td>\n",
              "      <td>0.364385</td>\n",
              "      <td>0.457106</td>\n",
              "      <td>0.058442</td>\n",
              "      <td>0.136364</td>\n",
              "      <td>0.345022</td>\n",
              "      <td>0.460173</td>\n",
              "      <td>0.996687</td>\n",
              "      <td>0.003313</td>\n",
              "    </tr>\n",
              "    <tr>\n",
              "      <th>Ukraine</th>\n",
              "      <td>0.875346</td>\n",
              "      <td>0.112188</td>\n",
              "      <td>0.010042</td>\n",
              "      <td>0.002424</td>\n",
              "      <td>0.350731</td>\n",
              "      <td>0.545581</td>\n",
              "      <td>0.088727</td>\n",
              "      <td>0.014962</td>\n",
              "      <td>0.360224</td>\n",
              "      <td>0.480182</td>\n",
              "      <td>...</td>\n",
              "      <td>0.019378</td>\n",
              "      <td>0.094333</td>\n",
              "      <td>0.286654</td>\n",
              "      <td>0.599634</td>\n",
              "      <td>0.033151</td>\n",
              "      <td>0.135519</td>\n",
              "      <td>0.246630</td>\n",
              "      <td>0.584699</td>\n",
              "      <td>0.957138</td>\n",
              "      <td>0.042862</td>\n",
              "    </tr>\n",
              "    <tr>\n",
              "      <th>United States of America</th>\n",
              "      <td>0.893174</td>\n",
              "      <td>0.085229</td>\n",
              "      <td>0.018511</td>\n",
              "      <td>0.003085</td>\n",
              "      <td>0.482385</td>\n",
              "      <td>0.413086</td>\n",
              "      <td>0.096012</td>\n",
              "      <td>0.008517</td>\n",
              "      <td>0.390008</td>\n",
              "      <td>0.498064</td>\n",
              "      <td>...</td>\n",
              "      <td>0.045010</td>\n",
              "      <td>0.169863</td>\n",
              "      <td>0.355382</td>\n",
              "      <td>0.429746</td>\n",
              "      <td>0.073828</td>\n",
              "      <td>0.197656</td>\n",
              "      <td>0.319141</td>\n",
              "      <td>0.409375</td>\n",
              "      <td>0.894322</td>\n",
              "      <td>0.105678</td>\n",
              "    </tr>\n",
              "    <tr>\n",
              "      <th>Vietnam</th>\n",
              "      <td>0.968333</td>\n",
              "      <td>0.025833</td>\n",
              "      <td>0.003333</td>\n",
              "      <td>0.002500</td>\n",
              "      <td>0.221667</td>\n",
              "      <td>0.658333</td>\n",
              "      <td>0.110833</td>\n",
              "      <td>0.009167</td>\n",
              "      <td>0.128333</td>\n",
              "      <td>0.525000</td>\n",
              "      <td>...</td>\n",
              "      <td>0.040833</td>\n",
              "      <td>0.111667</td>\n",
              "      <td>0.334167</td>\n",
              "      <td>0.513333</td>\n",
              "      <td>0.056667</td>\n",
              "      <td>0.177500</td>\n",
              "      <td>0.325000</td>\n",
              "      <td>0.440833</td>\n",
              "      <td>1.000000</td>\n",
              "      <td>0.000000</td>\n",
              "    </tr>\n",
              "    <tr>\n",
              "      <th>Zimbabwe</th>\n",
              "      <td>0.962902</td>\n",
              "      <td>0.035449</td>\n",
              "      <td>0.001649</td>\n",
              "      <td>0.000000</td>\n",
              "      <td>0.298927</td>\n",
              "      <td>0.480595</td>\n",
              "      <td>0.181668</td>\n",
              "      <td>0.038811</td>\n",
              "      <td>0.388477</td>\n",
              "      <td>0.417284</td>\n",
              "      <td>...</td>\n",
              "      <td>0.150125</td>\n",
              "      <td>0.139283</td>\n",
              "      <td>0.110092</td>\n",
              "      <td>0.600500</td>\n",
              "      <td>0.164725</td>\n",
              "      <td>0.123128</td>\n",
              "      <td>0.106489</td>\n",
              "      <td>0.605657</td>\n",
              "      <td>0.993410</td>\n",
              "      <td>0.006590</td>\n",
              "    </tr>\n",
              "  </tbody>\n",
              "</table>\n",
              "<p>81 rows × 768 columns</p>\n",
              "</div>\n",
              "      <button class=\"colab-df-convert\" onclick=\"convertToInteractive('df-b382a1f3-f37d-4150-93cd-98279c60d670')\"\n",
              "              title=\"Convert this dataframe to an interactive table.\"\n",
              "              style=\"display:none;\">\n",
              "        \n",
              "  <svg xmlns=\"http://www.w3.org/2000/svg\" height=\"24px\"viewBox=\"0 0 24 24\"\n",
              "       width=\"24px\">\n",
              "    <path d=\"M0 0h24v24H0V0z\" fill=\"none\"/>\n",
              "    <path d=\"M18.56 5.44l.94 2.06.94-2.06 2.06-.94-2.06-.94-.94-2.06-.94 2.06-2.06.94zm-11 1L8.5 8.5l.94-2.06 2.06-.94-2.06-.94L8.5 2.5l-.94 2.06-2.06.94zm10 10l.94 2.06.94-2.06 2.06-.94-2.06-.94-.94-2.06-.94 2.06-2.06.94z\"/><path d=\"M17.41 7.96l-1.37-1.37c-.4-.4-.92-.59-1.43-.59-.52 0-1.04.2-1.43.59L10.3 9.45l-7.72 7.72c-.78.78-.78 2.05 0 2.83L4 21.41c.39.39.9.59 1.41.59.51 0 1.02-.2 1.41-.59l7.78-7.78 2.81-2.81c.8-.78.8-2.07 0-2.86zM5.41 20L4 18.59l7.72-7.72 1.47 1.35L5.41 20z\"/>\n",
              "  </svg>\n",
              "      </button>\n",
              "      \n",
              "  <style>\n",
              "    .colab-df-container {\n",
              "      display:flex;\n",
              "      flex-wrap:wrap;\n",
              "      gap: 12px;\n",
              "    }\n",
              "\n",
              "    .colab-df-convert {\n",
              "      background-color: #E8F0FE;\n",
              "      border: none;\n",
              "      border-radius: 50%;\n",
              "      cursor: pointer;\n",
              "      display: none;\n",
              "      fill: #1967D2;\n",
              "      height: 32px;\n",
              "      padding: 0 0 0 0;\n",
              "      width: 32px;\n",
              "    }\n",
              "\n",
              "    .colab-df-convert:hover {\n",
              "      background-color: #E2EBFA;\n",
              "      box-shadow: 0px 1px 2px rgba(60, 64, 67, 0.3), 0px 1px 3px 1px rgba(60, 64, 67, 0.15);\n",
              "      fill: #174EA6;\n",
              "    }\n",
              "\n",
              "    [theme=dark] .colab-df-convert {\n",
              "      background-color: #3B4455;\n",
              "      fill: #D2E3FC;\n",
              "    }\n",
              "\n",
              "    [theme=dark] .colab-df-convert:hover {\n",
              "      background-color: #434B5C;\n",
              "      box-shadow: 0px 1px 3px 1px rgba(0, 0, 0, 0.15);\n",
              "      filter: drop-shadow(0px 1px 2px rgba(0, 0, 0, 0.3));\n",
              "      fill: #FFFFFF;\n",
              "    }\n",
              "  </style>\n",
              "\n",
              "      <script>\n",
              "        const buttonEl =\n",
              "          document.querySelector('#df-b382a1f3-f37d-4150-93cd-98279c60d670 button.colab-df-convert');\n",
              "        buttonEl.style.display =\n",
              "          google.colab.kernel.accessAllowed ? 'block' : 'none';\n",
              "\n",
              "        async function convertToInteractive(key) {\n",
              "          const element = document.querySelector('#df-b382a1f3-f37d-4150-93cd-98279c60d670');\n",
              "          const dataTable =\n",
              "            await google.colab.kernel.invokeFunction('convertToInteractive',\n",
              "                                                     [key], {});\n",
              "          if (!dataTable) return;\n",
              "\n",
              "          const docLinkHtml = 'Like what you see? Visit the ' +\n",
              "            '<a target=\"_blank\" href=https://colab.research.google.com/notebooks/data_table.ipynb>data table notebook</a>'\n",
              "            + ' to learn more about interactive tables.';\n",
              "          element.innerHTML = '';\n",
              "          dataTable['output_type'] = 'display_data';\n",
              "          await google.colab.output.renderOutput(dataTable, element);\n",
              "          const docLink = document.createElement('div');\n",
              "          docLink.innerHTML = docLinkHtml;\n",
              "          element.appendChild(docLink);\n",
              "        }\n",
              "      </script>\n",
              "    </div>\n",
              "  </div>\n",
              "  "
            ]
          },
          "metadata": {},
          "execution_count": 2
        }
      ]
    },
    {
      "cell_type": "markdown",
      "source": [
        "Realiza un preprocesamiento de los datos nulos y normaliza las columnas."
      ],
      "metadata": {
        "id": "bZewVzuw7670"
      }
    },
    {
      "cell_type": "code",
      "source": [
        ""
      ],
      "metadata": {
        "id": "7e3k1YOcQtOr"
      },
      "execution_count": null,
      "outputs": []
    },
    {
      "cell_type": "markdown",
      "source": [
        "# Parte 2: Clustering (4 ptos)\n",
        "\n",
        "En esta parte deberás implementar el algoritmo de *clustering* jerárquico algomerativo visto en clases. Para esto deberás completar dos clases:"
      ],
      "metadata": {
        "id": "aRBIyhbc4c4n"
      }
    },
    {
      "cell_type": "markdown",
      "source": [
        "## Clase Civilization (Cluster)\n",
        "\n",
        "Esta clase representa un *cluster* de paises. Cada instancia posee un identificador único `id` y un conjunto de paises `countries` que pertenecen a dicha civilización. Cada *cluster* se crea a partir de la unión de otros dos. La excepción a esta regla es al inicializar la clase `AgglomerativeClustering`, donde se crea un `cluster` por cada país."
      ],
      "metadata": {
        "id": "-HPHZY_r4-pm"
      }
    },
    {
      "cell_type": "code",
      "source": [
        "class Civilization:\n",
        "\n",
        "  def __init__(self, id, sub1=None, sub2=None, country=None):\n",
        "    # Completa esta clase\n",
        "\n",
        "    # Los paises de un cluster se crean a partir de los paises de los padres.\n",
        "    # O a partir de un pais inicial.\n",
        "    if country:\n",
        "      # Completa aqui\n",
        "      pass\n",
        "    else:\n",
        "      # Completa aqui\n",
        "      pass"
      ],
      "metadata": {
        "id": "0b49Ls6S5ELP"
      },
      "execution_count": null,
      "outputs": []
    },
    {
      "cell_type": "markdown",
      "source": [
        "## Clase AgglomerativeClustering\n",
        "\n",
        "Esta clase debe implemetar el algoritmo de clustering jerárquico aglomerativo. Para esto **debes** programar los siguientes métodos:\n",
        "\n",
        "\n",
        "### A) __init__\n",
        "Inicializa el algoritmo a partir de: la matriz `X` de características, el criterio de enlace `linkage` y la métrica de distancia `distance` a utilizar. Considera además todas las variables que necesites a lo largo de la ejecución de tu algoritmo, se recomienda como mínimo:\n",
        "*   Un contador que indique el nivel actual de aglomeración.\n",
        "*   Un diccionario o lista que almacene los clusters en cada nivel de aglomeración. Inicialmente, en el nivel 0, existe un *cluster* por cada país de `X`.\n",
        "*   La matriz de distancia entre los *clusters* donde el elemento `matriz[id1][id2]` corresponde a la distancia entre los clusters con identificadores `id1` e `id2` respectivamente. \n",
        "*   Una copia de la matriz original X.\n",
        "\n",
        "### B) get_distance\n",
        "Calcula la distancia entre dos vectores utilizando la métrica definida en `distance`. Este método debe soportar dos métricas distintas:\n",
        "*   **Manhattan**\n",
        "*   **Euclidean**\n",
        "\n",
        "\n",
        "### C) clusterize\n",
        "Ejecuta el método next_level hasta que solo existan dos *clusters*.\n",
        "\n",
        "### D) next_level\n",
        "Equivale a realizar un nivel de aglomeración del algoritmo. A modo general deben:\n",
        "1.   Obtener el par de *clusters* con menor distancia a partir de la matriz de distancias.\n",
        "2.   Unir ambos *clusters*.\n",
        "3.   Guardar el nuevo conjunto de *clusters* correspondientes al nivel actual de aglomeración.\n",
        "4.   Actualizar la matriz de distancias según el nuevo conjunto de *clusters*.\n",
        "\n",
        "### E) update_matrix\n",
        "Actualiza la matriz de distancias dado un nuevo *cluster*. La distancia entre *clusters* debe poder calcularse según los siguientes enlaces (`linkage`) vistos en clases:\n",
        "1.   **centroid**: distancia entre medias.\n",
        "2.   **complete**: enlace completo.\n",
        "\n",
        "<br>\n",
        "\n",
        "---\n",
        "\n",
        "**NOTA**: puedes entregarle los argumentos que quieras a estos métodos y tambien crear otros métodos que consideres pertinentes."
      ],
      "metadata": {
        "id": "J39Dv35u6Mfx"
      }
    },
    {
      "cell_type": "code",
      "source": [
        "class AgglomerativeClustering:\n",
        "\n",
        "  def __init__(self, X, linkage=\"centroid\", distance=\"Manhattan\"):\n",
        "    # Vectores de cada pais.\n",
        "    self.X = X.copy()\n",
        "    # Linkage.\n",
        "    self.linkage = linkage\n",
        "    # Métrica de distancia.\n",
        "    self.distance = distance\n",
        "\n",
        "    # Matriz de distancias (obtén la matriz de distancias inicial)\n",
        "    # self.matrix = # \n",
        "\n",
        "    # Copia de la matriz de distancias original.\n",
        "    self.original_matrix = self.matrix.copy()\n",
        "\n",
        "\n",
        "  def clusterize(self):\n",
        "    pass\n",
        "\n",
        "  def next_level(self):\n",
        "    # Obtén el par de clusters con menor distancia de la matriz de distancias.\n",
        "    \n",
        "    # Crea un nuevo cluster a partir de los dos anteriores\n",
        "    \n",
        "    # El nuevo nivel tiene los clusters anteriores y la union de los dos clusters elegidos.\n",
        "  \n",
        "    # Elimina los dos clusters elegidos de la matriz de distancias.\n",
        "    \n",
        "    # Actualiza la matriz de distancias ingresando el nuevo cluster.\n",
        "\n",
        "    pass\n",
        "\n",
        "  \n",
        "  def update_matrix(self, cluster):\n",
        "\n",
        "    if self.linkage == \"centroid\":\n",
        "      pass\n",
        "\n",
        "    elif self.linkage == \"complete\":\n",
        "      pass\n",
        "\n",
        "  def get_distance(self, vector1, vector2):\n",
        "    if self.distance == \"Manhattan\": \n",
        "      pass\n",
        "    \n",
        "    elif self.distance == \"Euclidean\":\n",
        "      pass\n"
      ],
      "metadata": {
        "id": "ikJOw5M81peE"
      },
      "execution_count": 3,
      "outputs": []
    },
    {
      "cell_type": "markdown",
      "source": [
        "# Parte 3 (1 pto)\n",
        "\n",
        "En esta parte deberás comparar distintas configuraciones de tu algoritmo de *clustering* y concluir cual de estas es la mejor.\n",
        "\n",
        "Una forma de comparar *clusters* es a partir de su *silhouette score*. Este mide cuán similar es un objeto a su propio *cluster* (cohesión) en comparación con otros *clusters* (separación). Completa el siguiente código utilizando la función `silhouette_score` de `sklearn.metrics`.\n",
        "\n",
        "NOTA: debes adaptar la estructura de clusters retornada por `AgglomerativeClustering` de tal forma que pueda ser utilizada como los `labels` que recibe `silhouette_score` ([documentación](https://scikit-learn.org/stable/modules/generated/sklearn.metrics.silhouette_score.html))."
      ],
      "metadata": {
        "id": "iygFnoiR6Y4P"
      }
    },
    {
      "cell_type": "code",
      "source": [
        "from sklearn.metrics import silhouette_score\n",
        "\n",
        "def civilization_silhouette_score(X, clusters):\n",
        "  # Formatea un level de clusters y calculan el silhoutte score.\n",
        "  pass"
      ],
      "metadata": {
        "id": "QzZO1zSMrnPc"
      },
      "execution_count": null,
      "outputs": []
    },
    {
      "cell_type": "markdown",
      "source": [
        "Ahora realiza una busqueda de hiperparámetros para encontrar la configuración que retorne el mejor *silhouette_score*. Como mínimo debes probar todas las combinaciones posibles de los siguientes parámetros:\n",
        "\n",
        "*   ***Linkage***: Centroid y Complete.\n",
        "*   ***Distance***: Manhattan y Euclidean.\n",
        "*   **Número de clusters**: 5, 6, 7, 8, 9 y 10."
      ],
      "metadata": {
        "id": "UrjQ1cLX77Rr"
      }
    },
    {
      "cell_type": "code",
      "source": [
        "# Búsqueda de hiperparámetros\n"
      ],
      "metadata": {
        "id": "WgPfnOgbstfR"
      },
      "execution_count": null,
      "outputs": []
    },
    {
      "cell_type": "markdown",
      "source": [
        "Hecho esto, responde las siguientes preguntas. Debes fundamentar todas tus respuestas con los resultados obtenidos en la búsqueda de hiperparámetros.\n",
        "1.   ¿Cuál configuración fue la mejor? \n"
      ],
      "metadata": {
        "id": "3ueStjOW3O7b"
      }
    },
    {
      "cell_type": "markdown",
      "source": [
        "\n",
        "2.   ¿Qué métrica de distancia da mejores resultados? (puedes comparar las métricas fijando los valores de *linkage* y el número de clusters.) \n"
      ],
      "metadata": {
        "id": "FGrRr8IPzb9o"
      }
    },
    {
      "cell_type": "markdown",
      "source": [
        "3.   ¿Qué relación observas entre el método de enlace y la métrica de distancia utilizada? **Justifica**.\n"
      ],
      "metadata": {
        "id": "auq81KcbzsIV"
      }
    },
    {
      "cell_type": "markdown",
      "source": [
        "# Parte 4 (0.5 ptos)\n",
        "\n",
        "Finalmente, debes visualizar la mejor aglomeración encontrada en la Parte 3. El siguiente código reduce la matriz X a dos dimensiones. De esta forma puedes graficar los *clusters* encontrados utilizando dos ejes y el color o forma para identificar cada civilización."
      ],
      "metadata": {
        "id": "TNmIRWvT8zOQ"
      }
    },
    {
      "cell_type": "code",
      "source": [
        "# NO MODIFICAR ESTA CELDA\n",
        "from sklearn.decomposition import PCA\n",
        "\n",
        "def reduce_to_2D(X):\n",
        "  pca = PCA(n_components=2)\n",
        "  new_X = pca.fit_transform(X)\n",
        "  return pd.DataFrame(new_X, index=X.index)"
      ],
      "metadata": {
        "id": "vAff1mT58tWy"
      },
      "execution_count": null,
      "outputs": []
    },
    {
      "cell_type": "code",
      "source": [
        "# Graficar los mejores clusters encontrados a partir de la matrix X reducida\n"
      ],
      "metadata": {
        "id": "Qo2Z8gaJtwyU"
      },
      "execution_count": null,
      "outputs": []
    },
    {
      "cell_type": "markdown",
      "source": [
        "# Bonus\n",
        "\n",
        "Esta tarea cuenta con una serie de bonus a los que podrás optar. Cabe recalcar que para optar a estos beneficios la nota de tu tarea (sin bonus) debe ser **igual o superior a 3,95** (sin considerar posibles descuentos)."
      ],
      "metadata": {
        "id": "eZjAQ46Wxusr"
      }
    },
    {
      "cell_type": "markdown",
      "source": [
        "## Dendrograma (2 décimas)\n",
        "\n",
        "Los [dendrogramas](https://es.wikipedia.org/wiki/Dendrograma) son una forma muy útil de visualizar el funcionamiento de los algoritmos de *clustering* aglomerativo. Para completar este bonus debes generar un dendrograma a partir de tu mejor configuración de `AgglomerativeClustering`. Para esto debes utilizar la función `dendrogram` del módulo `cluster.hierarchy` de scipy.\n",
        "\n",
        "<br>\n",
        "<center>\n",
        "<img src=\"https://docs.scipy.org/doc/scipy/_images/scipy-cluster-hierarchy-dendrogram-1_00.png\" width=\"400\"/>\n",
        "\n",
        "Fuente: https://docs.scipy.org/doc/scipy/reference/generated/scipy.cluster.hierarchy.dendrogram.html\n",
        "\n",
        "</center>\n",
        "\n",
        "NOTA: Debes investigar que formato tiene la matriz `Z` (*linkage matrix*) que recibe `dendrogram` y adaptar el output de tu algoritmo acordemente. Está estrictamente prohibido obtener `Z` a partir de la función `linkage` del módulo `cluster.hierarchy`. Puedes modificar la clase `AgglomerativeClustering` si lo consideras necesario."
      ],
      "metadata": {
        "id": "RL-y4CkRtA_G"
      }
    },
    {
      "cell_type": "code",
      "source": [
        "from scipy.cluster.hierarchy import dendrogram\n",
        "# Grafica el dendograma aquí"
      ],
      "metadata": {
        "id": "_9_OVW3ZtFs7"
      },
      "execution_count": null,
      "outputs": []
    }
  ]
}