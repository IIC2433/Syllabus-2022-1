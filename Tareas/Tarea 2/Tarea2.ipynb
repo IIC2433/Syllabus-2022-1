{
  "cells": [
    {
      "cell_type": "markdown",
      "metadata": {
        "id": "VK0aZCFHaCOT"
      },
      "source": [
        "Pontificia Universidad Católica de Chile <br>\n",
        "Departamento de Ciencia de la Computación <br>\n",
        "IIC2433 - Minería de Datos\n",
        "<br>\n",
        "\n",
        "<center>\n",
        "    <h2> Tarea 2 </h2>\n",
        "    <h1> Pingüinos de Madagascar y los pingüinos perdidos </h1>\n",
        "    <p>\n",
        "        Profesor Vicente Domínguez<br>\n",
        "        Primer semestre 2022    \n",
        "    </p>\n",
        "    <br>\n",
        "    <img src=\"https://camo.githubusercontent.com/1d187452ac3929cfde8f5760b79f37cc117c1a332227d37a8c50db50d3db632a/68747470733a2f2f616c6c69736f6e686f7273742e6769746875622e696f2f70616c6d657270656e6775696e732f7265666572656e63652f666967757265732f6c7465725f70656e6775696e732e706e67\" width=\"600\"/>\n",
        "</center>\n",
        "\n",
        "<br>\n",
        "\n",
        "---"
      ]
    },
    {
      "cell_type": "markdown",
      "metadata": {
        "id": "FTLJi2cbZ5hi"
      },
      "source": [
        "# Indicaciones"
      ]
    },
    {
      "cell_type": "markdown",
      "metadata": {
        "id": "owh6DlfKZ7Y4"
      },
      "source": [
        "Deberás entregar SOLO el archivo .ipynb en el buzón respectivo en canvas. \n",
        "\n",
        "**IMPORTANTE**: \n",
        "- Se te dará puntaje tanto por código como por la manera en la que respondas las preguntas planteadas. Es decir, si tienes un código perfecto pero este no es explicado o no se responden preguntas asociadas a este, no se tendrá el puntaje completo.\n",
        "- El notebook debe tener todas las celdas de código ejecutadas. Cualquier notebook que no las tenga no podrá ser corregido.\n",
        "- El carácter de esta tarea es **INDIVIDUAL**. Cualquier instancia de copia resultará en un 1,1 como nota de curso.\n"
      ]
    },
    {
      "cell_type": "markdown",
      "metadata": {
        "id": "z65VC-m9aBZX"
      },
      "source": [
        "## Librerías"
      ]
    },
    {
      "cell_type": "markdown",
      "metadata": {
        "id": "v7fylgfOaDse"
      },
      "source": [
        "Librerías aceptadas:\n",
        "- `Numpy`\n",
        "- `Pandas`\n",
        "- `Matplotlib`\n",
        "- `Seaborn`\n",
        "\n",
        "Clases y funciones aceptadas de la librería `sklearn`:\n",
        "- `DecisionTreeClassifier` y `plot_tree` del módulo `tree`\n",
        "- `train_test_split` del módulo `model_selection`\n",
        "- Funciones de los módulos `metrics` y `preprocessing`\n",
        "\n",
        "Librerías y funciones prohibidas:\n",
        "- Cualquier otra función de `sklearn`\n",
        "- *Cualquier otra librería que maneje y prediga datos* \n",
        "\n",
        "<br>\n",
        "\n",
        "---"
      ]
    },
    {
      "cell_type": "markdown",
      "metadata": {
        "id": "SugK90ojjLCl"
      },
      "source": [
        "# Introducción\n",
        "\n",
        "Tu gran amigo Skipper y su equipo se encuentran en una misión super secreta para salvar a los pingüinos del malvado Dr. Espiráculo y su secuaz el Basado Vochi Doménguiz. Una vez que hayan terminado deberán reubicar los pingüinos con sus respectivas familias, es por esto que te pide a ti _-oh gran conocedor de los árboles de decisión y los ensambles-_ que implementes un programa que permita clasificar pingüinos para así reubicar a estos plumíferos en base a sus características.\n",
        "\n",
        "<br>\n",
        "<center>\n",
        "<img src=\"https://misanimales.com/wp-content/uploads/2020/03/pinguinos-madagascar-768x549.jpg?auto=webp&quality=45&width=1920&crop=16:9,smart,safe\" width=\"400\"/>"
      ]
    },
    {
      "cell_type": "markdown",
      "metadata": {
        "id": "FquVE44FLdrS"
      },
      "source": [
        "## Descripción dataset"
      ]
    },
    {
      "cell_type": "markdown",
      "metadata": {
        "id": "qUJMWt-dLjZ4"
      },
      "source": [
        "Para esta tarea utilizarás un dataset compuesto de información sobre pingüinos del archipiélago de Palmer. Estos datos fueron obtenidos a partir de [Kaggle](https://www.kaggle.com/datasets/parulpandey/palmer-archipelago-antarctica-penguin-data?select=penguins_lter.csv) y después de ser preprocesados quedó la siguiente información:\n",
        "- `species`: indica la especie a la que pertenece el pingüino. Este puede tomar 3 valores: Adelie Penguin (_Pygoscelis adeliae_), Chinstrap penguin (_Pygoscelis antarctica_), o Gentoo penguin (_Pygoscelis papua_).\n",
        "- `culmen_length_mm`: longitud en milímetros del pico.\n",
        "- `culmen_depth_mm`: profundidad en milímetros del pico.\n",
        "- `flipper_length_mm`: longitud en milímetros de las aletas.\n",
        "- `body_mass_g`: masa corporal en gramos.\n",
        "- `island`: nombre de la isla donde se ubica. Este puede tomar 3 valores:  Dream, Torgersen, o Biscoe.\n",
        "- `sex`: sexo del pingüino. Este puede tomar dos valores: _female_ o _male_. \n",
        " \n",
        "El dataset fue dividido en un set de entrenamiento y de testeo (_training_ and _testing_ sets), los cuales deberás utilizar de forma correcta a lo largo de toda tu tarea. "
      ]
    },
    {
      "cell_type": "markdown",
      "metadata": {
        "id": "edoga-du1UVG"
      },
      "source": [
        "# Parte 1: Preprocesamiento de los datos (0.5 ptos.)"
      ]
    },
    {
      "cell_type": "markdown",
      "metadata": {
        "id": "MDxpPU961cH7"
      },
      "source": [
        "A continuación, realiza el preprocesamiento de los datos y justifica las decisiones tomadas en el proceso."
      ]
    },
    {
      "cell_type": "code",
      "execution_count": null,
      "metadata": {
        "id": "PCOQ0U-P1XLz"
      },
      "outputs": [],
      "source": []
    },
    {
      "cell_type": "markdown",
      "metadata": {
        "id": "cswWTdd2ZXK6"
      },
      "source": [
        "# Parte 2: Árboles de decisión (1.5 ptos.)\n",
        "\n"
      ]
    },
    {
      "cell_type": "markdown",
      "metadata": {
        "id": "CIG48Og6KhTj"
      },
      "source": [
        "Lo primero que debes realizar es implementar un árbol de decisión que permita clasificar los distintos tipos de pingüinos (`y`) en base a un set datos (`X`). \n",
        " \n",
        "Para esto deberás implementar una clase que tenga los métodos `fit` y `predict`:\n",
        "- El método `fit` recibe un set `X` e `y`, donde `X` corresponde a un DataFrame e `y` es una serie con la clasificación de cada pingüino. A partir de estos datos, genera y almacena un árbol de decisión.\n",
        "- El método `predict` solo recibe un set `X` (del mismo número de dimensiones que el usado para `fit`) y utiliza el árbol generado anteriormente para predecir la clase de cada dato de `X`.\n",
        "\n",
        "El árbol implementado en esta primera parte **NO** debe presentar limitaciones en cuanto a la cantidad de niveles de profundidad que tenga."
      ]
    },
    {
      "cell_type": "code",
      "execution_count": null,
      "metadata": {
        "id": "0Bh0GJ_QZYm8"
      },
      "outputs": [],
      "source": []
    },
    {
      "cell_type": "markdown",
      "metadata": {
        "id": "ffqiR_b_Kzkg"
      },
      "source": [
        "Ahora, implementa un nuevo árbol de decisión (con los mismos métodos `fit` y `predict`), pero limita este árbol para que solo tenga **3 niveles de profundidad.** "
      ]
    },
    {
      "cell_type": "code",
      "execution_count": null,
      "metadata": {
        "id": "IZ-08t4QK0-k"
      },
      "outputs": [],
      "source": []
    },
    {
      "cell_type": "markdown",
      "metadata": {
        "id": "llJyUHAJK_R0"
      },
      "source": [
        "A partir de la implementación de ambos árboles de decisión, responde la siguiente pregunta:\n",
        "> ¿Cuál de los árboles de decisión generó mejores resultados? <br> Justifique su respuesta en base a los resultados del _testing set_ y el uso de métricas de evaluación.  \n"
      ]
    },
    {
      "cell_type": "markdown",
      "metadata": {
        "id": "DOpvc1FpRSYA"
      },
      "source": []
    },
    {
      "cell_type": "markdown",
      "metadata": {
        "id": "j41IZDCGZjqd"
      },
      "source": [
        "# Parte 3: Random Forest (4 ptos.)"
      ]
    },
    {
      "cell_type": "markdown",
      "metadata": {
        "id": "M15XexbN5r5L"
      },
      "source": [
        "A continuación deberas implementar un _Random Forest_ compuesto por 3 árboles de decisión.\n",
        " \n",
        "Para ello deberás crear la clase `RandomForest` que deberá contener los métodos `fit`, `calculate_oob` y `predict`:\n",
        "- El método `fit` recibe un set `X` e `y`, donde `X` corresponde a un DataFrame e `y` es una serie con la clasificación de cada pingüino. A partir de estos datos, la función genera y almacena los árboles de decisión asociados al _random forest_.\n",
        "Al momento de generar cada árbol de decisión, deberás realizar lo siguiente:\n",
        "    1. Obtener un _sample_ aleatorio de 5 de las _features_ que componen `X`.\n",
        "    2. Separa los datos contenidos en `X` e `y` en un set de entrenamiento y otro de testeo.\n",
        "    3. Entrenar el árbol de decisión, en base al set de entrenamiento obtenido en el paso anterior.\n",
        "    4. Almacenar el árbol generado.\n",
        "- El método `calculate_oob`, calcula el _Out-of-bag error_ del Random Forest. \n",
        "- El método `predict` recibe un set `X` (del mismo número de dimensiones que el usado para `fit`) y a partir de los árboles de decisión generados predice la clase a la que pertenece de cada dato de `X`.\n"
      ]
    },
    {
      "cell_type": "code",
      "execution_count": null,
      "metadata": {
        "id": "yFAA5d-XZk6q"
      },
      "outputs": [],
      "source": []
    },
    {
      "cell_type": "markdown",
      "metadata": {
        "id": "vzHt4AMX5Ztb"
      },
      "source": [
        "A partir de la implementación del _Random Forest_, responde las siguientes preguntas:\n",
        "> 1. ¿Cuál fue el _Out-of-bag error_ obtenido? ¿Qué se puede hacer para mejorar este valor?\n",
        "\n",
        "> 2. Comparando con los resultados, ¿qué método dio mejores resultados?  <br> Justifique su respuesta en base a los resultados del _testing set_ y el uso de métricas de evaluación.  \n"
      ]
    },
    {
      "cell_type": "markdown",
      "metadata": {
        "id": "bdB_r5qE5scm"
      },
      "source": []
    },
    {
      "cell_type": "markdown",
      "metadata": {
        "id": "eZjAQ46Wxusr"
      },
      "source": [
        "# Bonus\n",
        "\n",
        "Esta tarea cuenta con una serie de bonus a los que podrás optar. Cabe recalcar que para optar a estos beneficios la nota de tu tarea (sin bonus) debe ser **igual o superior a 3,95** (sin considerar posibles descuentos)."
      ]
    },
    {
      "cell_type": "markdown",
      "metadata": {
        "id": "ZIBK2KuNetj7"
      },
      "source": [
        "## Meme (1-2 décimas)\n",
        "\n",
        "Haga un meme relacionado a la material del curso. Si es bueno, podrá optar a décimas extra. "
      ]
    },
    {
      "cell_type": "code",
      "execution_count": null,
      "metadata": {
        "id": "QO23vp-imI-6"
      },
      "outputs": [],
      "source": []
    },
    {
      "cell_type": "markdown",
      "metadata": {
        "id": "e6EDTByrezWI"
      },
      "source": [
        "## Random Forest Parámetrizado (3 décimas)\n",
        "\n",
        "A partir del código implementado anteriormente, genere una nueva clase que permita un _Random Forest_ donde los siguientes valores sean **variables de instancia** de clase y, que a su vez, permitan modificar el comportamiento del algoritmo:\n",
        "- `tree_numbers`: int que indica la cantidad de árboles por la que estará compuesto el Random Forest.\n",
        "- `n_features`: int que indica la cantidad de _features_ a considerar para generar el _sample_ de cada árbol de decisión.\n",
        "- `criterion`: string que indica la función a utilizar para medir la calidad de un _split_.\n",
        "- `max_depth`: int que indica la profundidad máxima de los árboles.\n",
        "- `min_sample_split`: int o float que indica la cantidad mínima de _samples_ requeridos para dividir un nodo de los árboles. \n",
        "- `max_features`: int, float o string que indica la cantidad de _features_ a considerar al momento de generar el árbol. \n",
        " \n",
        "A excepción de `tree_numbers` y `n_features` todas estas variables deben ser opcionales, por lo que queda a tu criterio los valores por defecto a utilizar en cada caso. <br><br>\n",
        "\n",
        "Para obtener este beneficio, el bonus debe estar implementado en su totalidad, ya que no se entregará puntaje intermedio. "
      ]
    },
    {
      "cell_type": "code",
      "execution_count": null,
      "metadata": {
        "id": "65lIIUFsxvXm"
      },
      "outputs": [],
      "source": []
    }
  ],
  "metadata": {
    "colab": {
      "collapsed_sections": [],
      "name": "Tarea 2",
      "provenance": []
    },
    "kernelspec": {
      "display_name": "Python 3",
      "name": "python3"
    },
    "language_info": {
      "name": "python"
    }
  },
  "nbformat": 4,
  "nbformat_minor": 0
}
